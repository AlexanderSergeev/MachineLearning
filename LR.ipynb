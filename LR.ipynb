{
 "cells": [
  {
   "cell_type": "markdown",
   "metadata": {},
   "source": [
    "# Лабораторная работа\n",
    "## Выполнил: Сергеев Александр, 18 МАГ ИАД\n",
    "### Датасет: https://archive.ics.uci.edu/ml/datasets/seismic-bumps\n",
    "#### Задача классификации состоит в предсказании повышенной сейсмической активности, способной вызвать внезапное обрушение в шахте. Таким образом, существует 2 класса - опасный (на следующий день произошло обрушение) и неопасный (обрушение не произошло).\n",
    "#### Набор данных не имеет пропущенных значений.\n",
    "#### Информация об атрибутах:\n",
    "1. seismic: результат оценки сейсмической опасности сдвига в шахте, полученный сейсмическим методом (a - отсутствие опасности, b - низкая опасность, c - высокая опасность, d - состояние опасности);\n",
    "2. seismoacoustic: результат оценки сейсмической опасности сдвига в шахте, полученный сейсмоакустическим методом;\n",
    "3. shift: информация о типе рабочего дня (W - добыча угля, N - подготовка);\n",
    "4. genergy: сейсмическая энергия, зарегистрированная в предыдущий рабочий день самым активным геофоном (GMax);\n",
    "5. gpuls: количество импульсов, записанных в предыдущий рабочий день GMax`ом;\n",
    "6. gdenergy: отклонение энергии, записанное в предыдущий рабочий день GMax`ом от средней энергии\n",
    "полученной за 8 предыдущих дней;\n",
    "7. gdpuls: отклонение количества импульсов, зарегистрированных  в предыдущий рабочий день GMax`ом от среднего числа\n",
    "импульсов, полученного за 8 предыдущих дней;\n",
    "8. ghazard: результат оценки сейсмической опасности сдвига в шахте, полученной сейсмоакустическим методом GMax`ом;\n",
    "9. nbumps: количество сейсмических ударов, зарегистрированных в предыдущий рабочий день;\n",
    "10. nbumps2: количество сейсмических ударов (в диапазоне энергий [10 ^ 2,10 ^ 3)), зарегистрированных в предыдущий рабочий день;\n",
    "11. nbumps3: количество сейсмических ударов (в диапазоне энергий [10 ^ 3,10 ^ 4)), зарегистрированных в предыдущий рабочий день;\n",
    "12. nbumps4: количество сейсмических ударов (в диапазоне энергий [10 ^ 4,10 ^ 5)), зарегистрированных в предыдущий рабочий день;\n",
    "13. nbumps5: количество сейсмических ударов (в диапазоне энергий [10 ^ 5,10 ^ 6)), зарегистрированных в предыдущий рабочий день;\n",
    "14. nbumps6: количество сейсмических ударов (в диапазоне энергий [10 ^ 6,10 ^ 7)), зарегистрированных в предыдущий рабочий день;\n",
    "15. nbumps7: количество сейсмических ударов (в диапазоне энергий [10 ^ 7,10 ^ 8)), зарегистрированных в предыдущий рабочий день;\n",
    "16. nbumps8,9: количество сейсмических ударов (в диапазоне энергий [10 ^ 8,10 ^ 10)), зарегистрированных в предыдущий рабочий день;\n",
    "17. energy: полная энергия сейсмических ударов, зарегистрированная в предыдущий рабочий день;\n",
    "18. maxenergy: максимальная энергия сейсмических ударов, зарегистрированная в предыдущий рабочий день;\n",
    "19. calss: атрибут принятия решения - «1» означает, что сейсмический удар высокой энергии произошел в следующий рабочий день\n",
    "(«опасное состояние»), «0» означает, что в следующий рабочий день сейсмических волн с высокой энергией не произошло\n",
    "(«неопасное состояние»)."
   ]
  },
  {
   "cell_type": "markdown",
   "metadata": {},
   "source": [
    "# Лабораторная работа №1"
   ]
  },
  {
   "cell_type": "markdown",
   "metadata": {},
   "source": [
    "#### Импортируем необходимые библиотеки:"
   ]
  },
  {
   "cell_type": "code",
   "execution_count": 1,
   "metadata": {},
   "outputs": [],
   "source": [
    "import numpy as np\n",
    "import matplotlib.pyplot as plt\n",
    "import pandas as pd\n",
    "%matplotlib inline"
   ]
  },
  {
   "cell_type": "markdown",
   "metadata": {},
   "source": [
    "#### Читаем датасет из локального файла с помощью функции pandas read_csv:"
   ]
  },
  {
   "cell_type": "code",
   "execution_count": 2,
   "metadata": {},
   "outputs": [],
   "source": [
    "#url = 'https://archive.ics.uci.edu/ml/machine-learning-databases/00266/seismic-bumps.arff'\n",
    "#data = pd.read_csv(url, sep = ',', engine='python')\n",
    "data = pd.read_csv('datasets/seismic-bumps.csv', engine = 'python')"
   ]
  },
  {
   "cell_type": "markdown",
   "metadata": {},
   "source": [
    "#### Узнаем тип данных и выводим первые (функция head) и последние (функция tail) 5 записей"
   ]
  },
  {
   "cell_type": "code",
   "execution_count": 3,
   "metadata": {},
   "outputs": [
    {
     "data": {
      "text/plain": [
       "pandas.core.frame.DataFrame"
      ]
     },
     "execution_count": 3,
     "metadata": {},
     "output_type": "execute_result"
    }
   ],
   "source": [
    "type(data)"
   ]
  },
  {
   "cell_type": "code",
   "execution_count": 4,
   "metadata": {},
   "outputs": [
    {
     "data": {
      "text/html": [
       "<div>\n",
       "<style scoped>\n",
       "    .dataframe tbody tr th:only-of-type {\n",
       "        vertical-align: middle;\n",
       "    }\n",
       "\n",
       "    .dataframe tbody tr th {\n",
       "        vertical-align: top;\n",
       "    }\n",
       "\n",
       "    .dataframe thead th {\n",
       "        text-align: right;\n",
       "    }\n",
       "</style>\n",
       "<table border=\"1\" class=\"dataframe\">\n",
       "  <thead>\n",
       "    <tr style=\"text-align: right;\">\n",
       "      <th></th>\n",
       "      <th>%seismic</th>\n",
       "      <th>seismoacoustic</th>\n",
       "      <th>shift</th>\n",
       "      <th>genergy</th>\n",
       "      <th>gplus</th>\n",
       "      <th>gdenergy</th>\n",
       "      <th>gdpuls</th>\n",
       "      <th>hazard</th>\n",
       "      <th>bumps</th>\n",
       "      <th>bumps2</th>\n",
       "      <th>bumps3</th>\n",
       "      <th>bumps4</th>\n",
       "      <th>bumps5</th>\n",
       "      <th>bumps6</th>\n",
       "      <th>bumps7</th>\n",
       "      <th>bumps8</th>\n",
       "      <th>energy</th>\n",
       "      <th>maxenergy</th>\n",
       "      <th>class</th>\n",
       "    </tr>\n",
       "  </thead>\n",
       "  <tbody>\n",
       "    <tr>\n",
       "      <th>0</th>\n",
       "      <td>a</td>\n",
       "      <td>a</td>\n",
       "      <td>N</td>\n",
       "      <td>15180</td>\n",
       "      <td>48</td>\n",
       "      <td>-72</td>\n",
       "      <td>-72</td>\n",
       "      <td>a</td>\n",
       "      <td>0</td>\n",
       "      <td>0</td>\n",
       "      <td>0</td>\n",
       "      <td>0</td>\n",
       "      <td>0</td>\n",
       "      <td>0</td>\n",
       "      <td>0</td>\n",
       "      <td>0</td>\n",
       "      <td>0</td>\n",
       "      <td>0</td>\n",
       "      <td>0</td>\n",
       "    </tr>\n",
       "    <tr>\n",
       "      <th>1</th>\n",
       "      <td>a</td>\n",
       "      <td>a</td>\n",
       "      <td>N</td>\n",
       "      <td>14720</td>\n",
       "      <td>33</td>\n",
       "      <td>-70</td>\n",
       "      <td>-79</td>\n",
       "      <td>a</td>\n",
       "      <td>1</td>\n",
       "      <td>0</td>\n",
       "      <td>1</td>\n",
       "      <td>0</td>\n",
       "      <td>0</td>\n",
       "      <td>0</td>\n",
       "      <td>0</td>\n",
       "      <td>0</td>\n",
       "      <td>2000</td>\n",
       "      <td>2000</td>\n",
       "      <td>0</td>\n",
       "    </tr>\n",
       "    <tr>\n",
       "      <th>2</th>\n",
       "      <td>a</td>\n",
       "      <td>a</td>\n",
       "      <td>N</td>\n",
       "      <td>8050</td>\n",
       "      <td>30</td>\n",
       "      <td>-81</td>\n",
       "      <td>-78</td>\n",
       "      <td>a</td>\n",
       "      <td>0</td>\n",
       "      <td>0</td>\n",
       "      <td>0</td>\n",
       "      <td>0</td>\n",
       "      <td>0</td>\n",
       "      <td>0</td>\n",
       "      <td>0</td>\n",
       "      <td>0</td>\n",
       "      <td>0</td>\n",
       "      <td>0</td>\n",
       "      <td>0</td>\n",
       "    </tr>\n",
       "    <tr>\n",
       "      <th>3</th>\n",
       "      <td>a</td>\n",
       "      <td>a</td>\n",
       "      <td>N</td>\n",
       "      <td>28820</td>\n",
       "      <td>171</td>\n",
       "      <td>-23</td>\n",
       "      <td>40</td>\n",
       "      <td>a</td>\n",
       "      <td>1</td>\n",
       "      <td>0</td>\n",
       "      <td>1</td>\n",
       "      <td>0</td>\n",
       "      <td>0</td>\n",
       "      <td>0</td>\n",
       "      <td>0</td>\n",
       "      <td>0</td>\n",
       "      <td>3000</td>\n",
       "      <td>3000</td>\n",
       "      <td>0</td>\n",
       "    </tr>\n",
       "    <tr>\n",
       "      <th>4</th>\n",
       "      <td>a</td>\n",
       "      <td>a</td>\n",
       "      <td>N</td>\n",
       "      <td>12640</td>\n",
       "      <td>57</td>\n",
       "      <td>-63</td>\n",
       "      <td>-52</td>\n",
       "      <td>a</td>\n",
       "      <td>0</td>\n",
       "      <td>0</td>\n",
       "      <td>0</td>\n",
       "      <td>0</td>\n",
       "      <td>0</td>\n",
       "      <td>0</td>\n",
       "      <td>0</td>\n",
       "      <td>0</td>\n",
       "      <td>0</td>\n",
       "      <td>0</td>\n",
       "      <td>0</td>\n",
       "    </tr>\n",
       "  </tbody>\n",
       "</table>\n",
       "</div>"
      ],
      "text/plain": [
       "  %seismic seismoacoustic shift  genergy  gplus  gdenergy  gdpuls hazard  \\\n",
       "0        a              a     N    15180     48       -72     -72      a   \n",
       "1        a              a     N    14720     33       -70     -79      a   \n",
       "2        a              a     N     8050     30       -81     -78      a   \n",
       "3        a              a     N    28820    171       -23      40      a   \n",
       "4        a              a     N    12640     57       -63     -52      a   \n",
       "\n",
       "   bumps  bumps2  bumps3  bumps4  bumps5  bumps6  bumps7  bumps8  energy  \\\n",
       "0      0       0       0       0       0       0       0       0       0   \n",
       "1      1       0       1       0       0       0       0       0    2000   \n",
       "2      0       0       0       0       0       0       0       0       0   \n",
       "3      1       0       1       0       0       0       0       0    3000   \n",
       "4      0       0       0       0       0       0       0       0       0   \n",
       "\n",
       "   maxenergy  class  \n",
       "0          0      0  \n",
       "1       2000      0  \n",
       "2          0      0  \n",
       "3       3000      0  \n",
       "4          0      0  "
      ]
     },
     "execution_count": 4,
     "metadata": {},
     "output_type": "execute_result"
    }
   ],
   "source": [
    "data.head()"
   ]
  },
  {
   "cell_type": "code",
   "execution_count": 5,
   "metadata": {
    "scrolled": true
   },
   "outputs": [
    {
     "data": {
      "text/html": [
       "<div>\n",
       "<style scoped>\n",
       "    .dataframe tbody tr th:only-of-type {\n",
       "        vertical-align: middle;\n",
       "    }\n",
       "\n",
       "    .dataframe tbody tr th {\n",
       "        vertical-align: top;\n",
       "    }\n",
       "\n",
       "    .dataframe thead th {\n",
       "        text-align: right;\n",
       "    }\n",
       "</style>\n",
       "<table border=\"1\" class=\"dataframe\">\n",
       "  <thead>\n",
       "    <tr style=\"text-align: right;\">\n",
       "      <th></th>\n",
       "      <th>%seismic</th>\n",
       "      <th>seismoacoustic</th>\n",
       "      <th>shift</th>\n",
       "      <th>genergy</th>\n",
       "      <th>gplus</th>\n",
       "      <th>gdenergy</th>\n",
       "      <th>gdpuls</th>\n",
       "      <th>hazard</th>\n",
       "      <th>bumps</th>\n",
       "      <th>bumps2</th>\n",
       "      <th>bumps3</th>\n",
       "      <th>bumps4</th>\n",
       "      <th>bumps5</th>\n",
       "      <th>bumps6</th>\n",
       "      <th>bumps7</th>\n",
       "      <th>bumps8</th>\n",
       "      <th>energy</th>\n",
       "      <th>maxenergy</th>\n",
       "      <th>class</th>\n",
       "    </tr>\n",
       "  </thead>\n",
       "  <tbody>\n",
       "    <tr>\n",
       "      <th>2579</th>\n",
       "      <td>b</td>\n",
       "      <td>a</td>\n",
       "      <td>W</td>\n",
       "      <td>81410</td>\n",
       "      <td>785</td>\n",
       "      <td>432</td>\n",
       "      <td>151</td>\n",
       "      <td>b</td>\n",
       "      <td>0</td>\n",
       "      <td>0</td>\n",
       "      <td>0</td>\n",
       "      <td>0</td>\n",
       "      <td>0</td>\n",
       "      <td>0</td>\n",
       "      <td>0</td>\n",
       "      <td>0</td>\n",
       "      <td>0</td>\n",
       "      <td>0</td>\n",
       "      <td>0</td>\n",
       "    </tr>\n",
       "    <tr>\n",
       "      <th>2580</th>\n",
       "      <td>b</td>\n",
       "      <td>a</td>\n",
       "      <td>W</td>\n",
       "      <td>42110</td>\n",
       "      <td>555</td>\n",
       "      <td>213</td>\n",
       "      <td>118</td>\n",
       "      <td>a</td>\n",
       "      <td>0</td>\n",
       "      <td>0</td>\n",
       "      <td>0</td>\n",
       "      <td>0</td>\n",
       "      <td>0</td>\n",
       "      <td>0</td>\n",
       "      <td>0</td>\n",
       "      <td>0</td>\n",
       "      <td>0</td>\n",
       "      <td>0</td>\n",
       "      <td>0</td>\n",
       "    </tr>\n",
       "    <tr>\n",
       "      <th>2581</th>\n",
       "      <td>b</td>\n",
       "      <td>a</td>\n",
       "      <td>W</td>\n",
       "      <td>26960</td>\n",
       "      <td>540</td>\n",
       "      <td>101</td>\n",
       "      <td>112</td>\n",
       "      <td>a</td>\n",
       "      <td>0</td>\n",
       "      <td>0</td>\n",
       "      <td>0</td>\n",
       "      <td>0</td>\n",
       "      <td>0</td>\n",
       "      <td>0</td>\n",
       "      <td>0</td>\n",
       "      <td>0</td>\n",
       "      <td>0</td>\n",
       "      <td>0</td>\n",
       "      <td>0</td>\n",
       "    </tr>\n",
       "    <tr>\n",
       "      <th>2582</th>\n",
       "      <td>a</td>\n",
       "      <td>a</td>\n",
       "      <td>W</td>\n",
       "      <td>16130</td>\n",
       "      <td>322</td>\n",
       "      <td>2</td>\n",
       "      <td>2</td>\n",
       "      <td>a</td>\n",
       "      <td>0</td>\n",
       "      <td>0</td>\n",
       "      <td>0</td>\n",
       "      <td>0</td>\n",
       "      <td>0</td>\n",
       "      <td>0</td>\n",
       "      <td>0</td>\n",
       "      <td>0</td>\n",
       "      <td>0</td>\n",
       "      <td>0</td>\n",
       "      <td>0</td>\n",
       "    </tr>\n",
       "    <tr>\n",
       "      <th>2583</th>\n",
       "      <td>a</td>\n",
       "      <td>a</td>\n",
       "      <td>W</td>\n",
       "      <td>12750</td>\n",
       "      <td>235</td>\n",
       "      <td>-10</td>\n",
       "      <td>-10</td>\n",
       "      <td>a</td>\n",
       "      <td>0</td>\n",
       "      <td>0</td>\n",
       "      <td>0</td>\n",
       "      <td>0</td>\n",
       "      <td>0</td>\n",
       "      <td>0</td>\n",
       "      <td>0</td>\n",
       "      <td>0</td>\n",
       "      <td>0</td>\n",
       "      <td>0</td>\n",
       "      <td>0</td>\n",
       "    </tr>\n",
       "  </tbody>\n",
       "</table>\n",
       "</div>"
      ],
      "text/plain": [
       "     %seismic seismoacoustic shift  genergy  gplus  gdenergy  gdpuls hazard  \\\n",
       "2579        b              a     W    81410    785       432     151      b   \n",
       "2580        b              a     W    42110    555       213     118      a   \n",
       "2581        b              a     W    26960    540       101     112      a   \n",
       "2582        a              a     W    16130    322         2       2      a   \n",
       "2583        a              a     W    12750    235       -10     -10      a   \n",
       "\n",
       "      bumps  bumps2  bumps3  bumps4  bumps5  bumps6  bumps7  bumps8  energy  \\\n",
       "2579      0       0       0       0       0       0       0       0       0   \n",
       "2580      0       0       0       0       0       0       0       0       0   \n",
       "2581      0       0       0       0       0       0       0       0       0   \n",
       "2582      0       0       0       0       0       0       0       0       0   \n",
       "2583      0       0       0       0       0       0       0       0       0   \n",
       "\n",
       "      maxenergy  class  \n",
       "2579          0      0  \n",
       "2580          0      0  \n",
       "2581          0      0  \n",
       "2582          0      0  \n",
       "2583          0      0  "
      ]
     },
     "execution_count": 5,
     "metadata": {},
     "output_type": "execute_result"
    }
   ],
   "source": [
    "data.tail()"
   ]
  },
  {
   "cell_type": "markdown",
   "metadata": {},
   "source": [
    "#### Узнаем размерность и названия колонок"
   ]
  },
  {
   "cell_type": "code",
   "execution_count": 6,
   "metadata": {},
   "outputs": [
    {
     "name": "stdout",
     "output_type": "stream",
     "text": [
      "(2584, 19)\n",
      "Index(['%seismic', 'seismoacoustic', 'shift', 'genergy', 'gplus', 'gdenergy',\n",
      "       'gdpuls', 'hazard', 'bumps', 'bumps2', 'bumps3', 'bumps4', 'bumps5',\n",
      "       'bumps6', 'bumps7', 'bumps8', 'energy', 'maxenergy', 'class'],\n",
      "      dtype='object')\n"
     ]
    }
   ],
   "source": [
    "print(data.shape)\n",
    "print(data.columns)"
   ]
  },
  {
   "cell_type": "markdown",
   "metadata": {},
   "source": [
    "#### Узнаем количество записей и выведем значения атрибута shift"
   ]
  },
  {
   "cell_type": "code",
   "execution_count": 7,
   "metadata": {},
   "outputs": [
    {
     "data": {
      "text/plain": [
       "RangeIndex(start=0, stop=2584, step=1)"
      ]
     },
     "execution_count": 7,
     "metadata": {},
     "output_type": "execute_result"
    }
   ],
   "source": [
    "data.index"
   ]
  },
  {
   "cell_type": "code",
   "execution_count": 8,
   "metadata": {},
   "outputs": [
    {
     "data": {
      "text/plain": [
       "0       N\n",
       "1       N\n",
       "2       N\n",
       "3       N\n",
       "4       N\n",
       "5       W\n",
       "6       W\n",
       "7       N\n",
       "8       N\n",
       "9       W\n",
       "10      N\n",
       "11      N\n",
       "12      W\n",
       "13      N\n",
       "14      N\n",
       "15      W\n",
       "16      N\n",
       "17      N\n",
       "18      N\n",
       "19      N\n",
       "20      N\n",
       "21      N\n",
       "22      N\n",
       "23      N\n",
       "24      W\n",
       "25      N\n",
       "26      N\n",
       "27      W\n",
       "28      N\n",
       "29      W\n",
       "       ..\n",
       "2554    W\n",
       "2555    W\n",
       "2556    W\n",
       "2557    W\n",
       "2558    N\n",
       "2559    N\n",
       "2560    N\n",
       "2561    N\n",
       "2562    N\n",
       "2563    W\n",
       "2564    W\n",
       "2565    W\n",
       "2566    W\n",
       "2567    W\n",
       "2568    W\n",
       "2569    W\n",
       "2570    W\n",
       "2571    W\n",
       "2572    W\n",
       "2573    W\n",
       "2574    W\n",
       "2575    W\n",
       "2576    W\n",
       "2577    W\n",
       "2578    W\n",
       "2579    W\n",
       "2580    W\n",
       "2581    W\n",
       "2582    W\n",
       "2583    W\n",
       "Name: shift, Length: 2584, dtype: object"
      ]
     },
     "execution_count": 8,
     "metadata": {},
     "output_type": "execute_result"
    }
   ],
   "source": [
    "data['shift']"
   ]
  },
  {
   "cell_type": "code",
   "execution_count": 9,
   "metadata": {},
   "outputs": [
    {
     "data": {
      "text/plain": [
       "'N'"
      ]
     },
     "execution_count": 9,
     "metadata": {},
     "output_type": "execute_result"
    }
   ],
   "source": [
    "data['shift'][3]"
   ]
  },
  {
   "cell_type": "markdown",
   "metadata": {},
   "source": [
    "#### Узнаем типы различных атрибутов различными способами и выводим первые 5 значений с помощью head"
   ]
  },
  {
   "cell_type": "code",
   "execution_count": 10,
   "metadata": {},
   "outputs": [
    {
     "data": {
      "text/plain": [
       "'int64'"
      ]
     },
     "execution_count": 10,
     "metadata": {},
     "output_type": "execute_result"
    }
   ],
   "source": [
    "data['bumps'].dtype.name"
   ]
  },
  {
   "cell_type": "code",
   "execution_count": 11,
   "metadata": {},
   "outputs": [
    {
     "data": {
      "text/plain": [
       "str"
      ]
     },
     "execution_count": 11,
     "metadata": {},
     "output_type": "execute_result"
    }
   ],
   "source": [
    "type(data['shift'][3])"
   ]
  },
  {
   "cell_type": "code",
   "execution_count": 12,
   "metadata": {},
   "outputs": [
    {
     "data": {
      "text/html": [
       "<div>\n",
       "<style scoped>\n",
       "    .dataframe tbody tr th:only-of-type {\n",
       "        vertical-align: middle;\n",
       "    }\n",
       "\n",
       "    .dataframe tbody tr th {\n",
       "        vertical-align: top;\n",
       "    }\n",
       "\n",
       "    .dataframe thead th {\n",
       "        text-align: right;\n",
       "    }\n",
       "</style>\n",
       "<table border=\"1\" class=\"dataframe\">\n",
       "  <thead>\n",
       "    <tr style=\"text-align: right;\">\n",
       "      <th></th>\n",
       "      <th>shift</th>\n",
       "      <th>genergy</th>\n",
       "    </tr>\n",
       "  </thead>\n",
       "  <tbody>\n",
       "    <tr>\n",
       "      <th>0</th>\n",
       "      <td>N</td>\n",
       "      <td>15180</td>\n",
       "    </tr>\n",
       "    <tr>\n",
       "      <th>1</th>\n",
       "      <td>N</td>\n",
       "      <td>14720</td>\n",
       "    </tr>\n",
       "    <tr>\n",
       "      <th>2</th>\n",
       "      <td>N</td>\n",
       "      <td>8050</td>\n",
       "    </tr>\n",
       "    <tr>\n",
       "      <th>3</th>\n",
       "      <td>N</td>\n",
       "      <td>28820</td>\n",
       "    </tr>\n",
       "    <tr>\n",
       "      <th>4</th>\n",
       "      <td>N</td>\n",
       "      <td>12640</td>\n",
       "    </tr>\n",
       "  </tbody>\n",
       "</table>\n",
       "</div>"
      ],
      "text/plain": [
       "  shift  genergy\n",
       "0     N    15180\n",
       "1     N    14720\n",
       "2     N     8050\n",
       "3     N    28820\n",
       "4     N    12640"
      ]
     },
     "execution_count": 12,
     "metadata": {},
     "output_type": "execute_result"
    }
   ],
   "source": [
    "data[['shift', 'genergy']].head()"
   ]
  },
  {
   "cell_type": "markdown",
   "metadata": {},
   "source": [
    "#### Выводим описательную статистику по атрибутам (по-умолчанию только по числовым)"
   ]
  },
  {
   "cell_type": "code",
   "execution_count": 13,
   "metadata": {},
   "outputs": [
    {
     "data": {
      "text/html": [
       "<div>\n",
       "<style scoped>\n",
       "    .dataframe tbody tr th:only-of-type {\n",
       "        vertical-align: middle;\n",
       "    }\n",
       "\n",
       "    .dataframe tbody tr th {\n",
       "        vertical-align: top;\n",
       "    }\n",
       "\n",
       "    .dataframe thead th {\n",
       "        text-align: right;\n",
       "    }\n",
       "</style>\n",
       "<table border=\"1\" class=\"dataframe\">\n",
       "  <thead>\n",
       "    <tr style=\"text-align: right;\">\n",
       "      <th></th>\n",
       "      <th>genergy</th>\n",
       "      <th>gplus</th>\n",
       "      <th>gdenergy</th>\n",
       "      <th>gdpuls</th>\n",
       "      <th>bumps</th>\n",
       "      <th>bumps2</th>\n",
       "      <th>bumps3</th>\n",
       "      <th>bumps4</th>\n",
       "      <th>bumps5</th>\n",
       "      <th>bumps6</th>\n",
       "      <th>bumps7</th>\n",
       "      <th>bumps8</th>\n",
       "      <th>energy</th>\n",
       "      <th>maxenergy</th>\n",
       "      <th>class</th>\n",
       "    </tr>\n",
       "  </thead>\n",
       "  <tbody>\n",
       "    <tr>\n",
       "      <th>count</th>\n",
       "      <td>2.584000e+03</td>\n",
       "      <td>2584.000000</td>\n",
       "      <td>2584.000000</td>\n",
       "      <td>2584.000000</td>\n",
       "      <td>2584.000000</td>\n",
       "      <td>2584.000000</td>\n",
       "      <td>2584.000000</td>\n",
       "      <td>2584.000000</td>\n",
       "      <td>2584.000000</td>\n",
       "      <td>2584.0</td>\n",
       "      <td>2584.0</td>\n",
       "      <td>2584.0</td>\n",
       "      <td>2584.000000</td>\n",
       "      <td>2584.000000</td>\n",
       "      <td>2584.000000</td>\n",
       "    </tr>\n",
       "    <tr>\n",
       "      <th>mean</th>\n",
       "      <td>9.024252e+04</td>\n",
       "      <td>538.579334</td>\n",
       "      <td>12.375774</td>\n",
       "      <td>4.508901</td>\n",
       "      <td>0.859520</td>\n",
       "      <td>0.393576</td>\n",
       "      <td>0.392802</td>\n",
       "      <td>0.067724</td>\n",
       "      <td>0.004644</td>\n",
       "      <td>0.0</td>\n",
       "      <td>0.0</td>\n",
       "      <td>0.0</td>\n",
       "      <td>4975.270898</td>\n",
       "      <td>4278.850619</td>\n",
       "      <td>0.065789</td>\n",
       "    </tr>\n",
       "    <tr>\n",
       "      <th>std</th>\n",
       "      <td>2.292005e+05</td>\n",
       "      <td>562.652536</td>\n",
       "      <td>80.319051</td>\n",
       "      <td>63.166556</td>\n",
       "      <td>1.364616</td>\n",
       "      <td>0.783772</td>\n",
       "      <td>0.769710</td>\n",
       "      <td>0.279059</td>\n",
       "      <td>0.068001</td>\n",
       "      <td>0.0</td>\n",
       "      <td>0.0</td>\n",
       "      <td>0.0</td>\n",
       "      <td>20450.833222</td>\n",
       "      <td>19357.454882</td>\n",
       "      <td>0.247962</td>\n",
       "    </tr>\n",
       "    <tr>\n",
       "      <th>min</th>\n",
       "      <td>1.000000e+02</td>\n",
       "      <td>2.000000</td>\n",
       "      <td>-96.000000</td>\n",
       "      <td>-96.000000</td>\n",
       "      <td>0.000000</td>\n",
       "      <td>0.000000</td>\n",
       "      <td>0.000000</td>\n",
       "      <td>0.000000</td>\n",
       "      <td>0.000000</td>\n",
       "      <td>0.0</td>\n",
       "      <td>0.0</td>\n",
       "      <td>0.0</td>\n",
       "      <td>0.000000</td>\n",
       "      <td>0.000000</td>\n",
       "      <td>0.000000</td>\n",
       "    </tr>\n",
       "    <tr>\n",
       "      <th>25%</th>\n",
       "      <td>1.166000e+04</td>\n",
       "      <td>190.000000</td>\n",
       "      <td>-37.000000</td>\n",
       "      <td>-36.000000</td>\n",
       "      <td>0.000000</td>\n",
       "      <td>0.000000</td>\n",
       "      <td>0.000000</td>\n",
       "      <td>0.000000</td>\n",
       "      <td>0.000000</td>\n",
       "      <td>0.0</td>\n",
       "      <td>0.0</td>\n",
       "      <td>0.0</td>\n",
       "      <td>0.000000</td>\n",
       "      <td>0.000000</td>\n",
       "      <td>0.000000</td>\n",
       "    </tr>\n",
       "    <tr>\n",
       "      <th>50%</th>\n",
       "      <td>2.548500e+04</td>\n",
       "      <td>379.000000</td>\n",
       "      <td>-6.000000</td>\n",
       "      <td>-6.000000</td>\n",
       "      <td>0.000000</td>\n",
       "      <td>0.000000</td>\n",
       "      <td>0.000000</td>\n",
       "      <td>0.000000</td>\n",
       "      <td>0.000000</td>\n",
       "      <td>0.0</td>\n",
       "      <td>0.0</td>\n",
       "      <td>0.0</td>\n",
       "      <td>0.000000</td>\n",
       "      <td>0.000000</td>\n",
       "      <td>0.000000</td>\n",
       "    </tr>\n",
       "    <tr>\n",
       "      <th>75%</th>\n",
       "      <td>5.283250e+04</td>\n",
       "      <td>669.000000</td>\n",
       "      <td>38.000000</td>\n",
       "      <td>30.250000</td>\n",
       "      <td>1.000000</td>\n",
       "      <td>1.000000</td>\n",
       "      <td>1.000000</td>\n",
       "      <td>0.000000</td>\n",
       "      <td>0.000000</td>\n",
       "      <td>0.0</td>\n",
       "      <td>0.0</td>\n",
       "      <td>0.0</td>\n",
       "      <td>2600.000000</td>\n",
       "      <td>2000.000000</td>\n",
       "      <td>0.000000</td>\n",
       "    </tr>\n",
       "    <tr>\n",
       "      <th>max</th>\n",
       "      <td>2.595650e+06</td>\n",
       "      <td>4518.000000</td>\n",
       "      <td>1245.000000</td>\n",
       "      <td>838.000000</td>\n",
       "      <td>9.000000</td>\n",
       "      <td>8.000000</td>\n",
       "      <td>7.000000</td>\n",
       "      <td>3.000000</td>\n",
       "      <td>1.000000</td>\n",
       "      <td>0.0</td>\n",
       "      <td>0.0</td>\n",
       "      <td>0.0</td>\n",
       "      <td>402000.000000</td>\n",
       "      <td>400000.000000</td>\n",
       "      <td>1.000000</td>\n",
       "    </tr>\n",
       "  </tbody>\n",
       "</table>\n",
       "</div>"
      ],
      "text/plain": [
       "            genergy        gplus     gdenergy       gdpuls        bumps  \\\n",
       "count  2.584000e+03  2584.000000  2584.000000  2584.000000  2584.000000   \n",
       "mean   9.024252e+04   538.579334    12.375774     4.508901     0.859520   \n",
       "std    2.292005e+05   562.652536    80.319051    63.166556     1.364616   \n",
       "min    1.000000e+02     2.000000   -96.000000   -96.000000     0.000000   \n",
       "25%    1.166000e+04   190.000000   -37.000000   -36.000000     0.000000   \n",
       "50%    2.548500e+04   379.000000    -6.000000    -6.000000     0.000000   \n",
       "75%    5.283250e+04   669.000000    38.000000    30.250000     1.000000   \n",
       "max    2.595650e+06  4518.000000  1245.000000   838.000000     9.000000   \n",
       "\n",
       "            bumps2       bumps3       bumps4       bumps5  bumps6  bumps7  \\\n",
       "count  2584.000000  2584.000000  2584.000000  2584.000000  2584.0  2584.0   \n",
       "mean      0.393576     0.392802     0.067724     0.004644     0.0     0.0   \n",
       "std       0.783772     0.769710     0.279059     0.068001     0.0     0.0   \n",
       "min       0.000000     0.000000     0.000000     0.000000     0.0     0.0   \n",
       "25%       0.000000     0.000000     0.000000     0.000000     0.0     0.0   \n",
       "50%       0.000000     0.000000     0.000000     0.000000     0.0     0.0   \n",
       "75%       1.000000     1.000000     0.000000     0.000000     0.0     0.0   \n",
       "max       8.000000     7.000000     3.000000     1.000000     0.0     0.0   \n",
       "\n",
       "       bumps8         energy      maxenergy        class  \n",
       "count  2584.0    2584.000000    2584.000000  2584.000000  \n",
       "mean      0.0    4975.270898    4278.850619     0.065789  \n",
       "std       0.0   20450.833222   19357.454882     0.247962  \n",
       "min       0.0       0.000000       0.000000     0.000000  \n",
       "25%       0.0       0.000000       0.000000     0.000000  \n",
       "50%       0.0       0.000000       0.000000     0.000000  \n",
       "75%       0.0    2600.000000    2000.000000     0.000000  \n",
       "max       0.0  402000.000000  400000.000000     1.000000  "
      ]
     },
     "execution_count": 13,
     "metadata": {},
     "output_type": "execute_result"
    }
   ],
   "source": [
    "data.describe()"
   ]
  },
  {
   "cell_type": "markdown",
   "metadata": {},
   "source": [
    "#### Строим диаграмму рассеяния и выводим матрицу корреляции для демонстрации наличия или отсутствия корреляции между переменными"
   ]
  },
  {
   "cell_type": "code",
   "execution_count": 14,
   "metadata": {},
   "outputs": [
    {
     "name": "stderr",
     "output_type": "stream",
     "text": [
      "D:\\Anaconda\\lib\\site-packages\\ipykernel_launcher.py:2: FutureWarning: 'pandas.tools.plotting.scatter_matrix' is deprecated, import 'pandas.plotting.scatter_matrix' instead.\n",
      "  \n",
      "D:\\Anaconda\\lib\\site-packages\\matplotlib\\axes\\_base.py:3124: UserWarning: Attempting to set identical left==right results\n",
      "in singular transformations; automatically expanding.\n",
      "left=0.0, right=0.0\n",
      "  'left=%s, right=%s') % (left, right))\n",
      "D:\\Anaconda\\lib\\site-packages\\matplotlib\\axes\\_base.py:3443: UserWarning: Attempting to set identical bottom==top results\n",
      "in singular transformations; automatically expanding.\n",
      "bottom=0.0, top=0.0\n",
      "  'bottom=%s, top=%s') % (bottom, top))\n"
     ]
    },
    {
     "data": {
      "image/png": "[encoded data removed]",
      "text/plain": [
       "<Figure size 720x720 with 225 Axes>"
      ]
     },
     "metadata": {},
     "output_type": "display_data"
    }
   ],
   "source": [
    "from pandas.tools.plotting import scatter_matrix\n",
    "scatter_matrix(data, alpha = .1, figsize = (10, 10))\n",
    "pass"
   ]
  },
  {
   "cell_type": "code",
   "execution_count": 15,
   "metadata": {
    "scrolled": true
   },
   "outputs": [
    {
     "data": {
      "text/html": [
       "<div>\n",
       "<style scoped>\n",
       "    .dataframe tbody tr th:only-of-type {\n",
       "        vertical-align: middle;\n",
       "    }\n",
       "\n",
       "    .dataframe tbody tr th {\n",
       "        vertical-align: top;\n",
       "    }\n",
       "\n",
       "    .dataframe thead th {\n",
       "        text-align: right;\n",
       "    }\n",
       "</style>\n",
       "<table border=\"1\" class=\"dataframe\">\n",
       "  <thead>\n",
       "    <tr style=\"text-align: right;\">\n",
       "      <th></th>\n",
       "      <th>genergy</th>\n",
       "      <th>gplus</th>\n",
       "      <th>gdenergy</th>\n",
       "      <th>gdpuls</th>\n",
       "      <th>bumps</th>\n",
       "      <th>bumps2</th>\n",
       "      <th>bumps3</th>\n",
       "      <th>bumps4</th>\n",
       "      <th>bumps5</th>\n",
       "      <th>bumps6</th>\n",
       "      <th>bumps7</th>\n",
       "      <th>bumps8</th>\n",
       "      <th>energy</th>\n",
       "      <th>maxenergy</th>\n",
       "      <th>class</th>\n",
       "    </tr>\n",
       "  </thead>\n",
       "  <tbody>\n",
       "    <tr>\n",
       "      <th>genergy</th>\n",
       "      <td>1.000000</td>\n",
       "      <td>0.748020</td>\n",
       "      <td>0.048514</td>\n",
       "      <td>0.071554</td>\n",
       "      <td>0.220720</td>\n",
       "      <td>0.143587</td>\n",
       "      <td>0.191753</td>\n",
       "      <td>0.150589</td>\n",
       "      <td>-0.009863</td>\n",
       "      <td>NaN</td>\n",
       "      <td>NaN</td>\n",
       "      <td>NaN</td>\n",
       "      <td>0.080828</td>\n",
       "      <td>0.064405</td>\n",
       "      <td>0.128160</td>\n",
       "    </tr>\n",
       "    <tr>\n",
       "      <th>gplus</th>\n",
       "      <td>0.748020</td>\n",
       "      <td>1.000000</td>\n",
       "      <td>0.293036</td>\n",
       "      <td>0.382906</td>\n",
       "      <td>0.300923</td>\n",
       "      <td>0.207390</td>\n",
       "      <td>0.225695</td>\n",
       "      <td>0.256547</td>\n",
       "      <td>0.049450</td>\n",
       "      <td>NaN</td>\n",
       "      <td>NaN</td>\n",
       "      <td>NaN</td>\n",
       "      <td>0.187350</td>\n",
       "      <td>0.164263</td>\n",
       "      <td>0.201042</td>\n",
       "    </tr>\n",
       "    <tr>\n",
       "      <th>gdenergy</th>\n",
       "      <td>0.048514</td>\n",
       "      <td>0.293036</td>\n",
       "      <td>1.000000</td>\n",
       "      <td>0.811944</td>\n",
       "      <td>0.030039</td>\n",
       "      <td>0.041246</td>\n",
       "      <td>-0.012189</td>\n",
       "      <td>0.036916</td>\n",
       "      <td>0.123229</td>\n",
       "      <td>NaN</td>\n",
       "      <td>NaN</td>\n",
       "      <td>NaN</td>\n",
       "      <td>0.105971</td>\n",
       "      <td>0.108572</td>\n",
       "      <td>0.002957</td>\n",
       "    </tr>\n",
       "    <tr>\n",
       "      <th>gdpuls</th>\n",
       "      <td>0.071554</td>\n",
       "      <td>0.382906</td>\n",
       "      <td>0.811944</td>\n",
       "      <td>1.000000</td>\n",
       "      <td>0.057996</td>\n",
       "      <td>0.051106</td>\n",
       "      <td>0.014735</td>\n",
       "      <td>0.066195</td>\n",
       "      <td>0.141044</td>\n",
       "      <td>NaN</td>\n",
       "      <td>NaN</td>\n",
       "      <td>NaN</td>\n",
       "      <td>0.143277</td>\n",
       "      <td>0.143646</td>\n",
       "      <td>0.021788</td>\n",
       "    </tr>\n",
       "    <tr>\n",
       "      <th>bumps</th>\n",
       "      <td>0.220720</td>\n",
       "      <td>0.300923</td>\n",
       "      <td>0.030039</td>\n",
       "      <td>0.057996</td>\n",
       "      <td>1.000000</td>\n",
       "      <td>0.804978</td>\n",
       "      <td>0.803364</td>\n",
       "      <td>0.395052</td>\n",
       "      <td>0.069613</td>\n",
       "      <td>NaN</td>\n",
       "      <td>NaN</td>\n",
       "      <td>NaN</td>\n",
       "      <td>0.347852</td>\n",
       "      <td>0.273714</td>\n",
       "      <td>0.248144</td>\n",
       "    </tr>\n",
       "    <tr>\n",
       "      <th>bumps2</th>\n",
       "      <td>0.143587</td>\n",
       "      <td>0.207390</td>\n",
       "      <td>0.041246</td>\n",
       "      <td>0.051106</td>\n",
       "      <td>0.804978</td>\n",
       "      <td>1.000000</td>\n",
       "      <td>0.350724</td>\n",
       "      <td>0.161296</td>\n",
       "      <td>-0.005251</td>\n",
       "      <td>NaN</td>\n",
       "      <td>NaN</td>\n",
       "      <td>NaN</td>\n",
       "      <td>0.124650</td>\n",
       "      <td>0.085032</td>\n",
       "      <td>0.201381</td>\n",
       "    </tr>\n",
       "    <tr>\n",
       "      <th>bumps3</th>\n",
       "      <td>0.191753</td>\n",
       "      <td>0.225695</td>\n",
       "      <td>-0.012189</td>\n",
       "      <td>0.014735</td>\n",
       "      <td>0.803364</td>\n",
       "      <td>0.350724</td>\n",
       "      <td>1.000000</td>\n",
       "      <td>0.175301</td>\n",
       "      <td>0.046498</td>\n",
       "      <td>NaN</td>\n",
       "      <td>NaN</td>\n",
       "      <td>NaN</td>\n",
       "      <td>0.244083</td>\n",
       "      <td>0.176480</td>\n",
       "      <td>0.205327</td>\n",
       "    </tr>\n",
       "    <tr>\n",
       "      <th>bumps4</th>\n",
       "      <td>0.150589</td>\n",
       "      <td>0.256547</td>\n",
       "      <td>0.036916</td>\n",
       "      <td>0.066195</td>\n",
       "      <td>0.395052</td>\n",
       "      <td>0.161296</td>\n",
       "      <td>0.175301</td>\n",
       "      <td>1.000000</td>\n",
       "      <td>-0.016580</td>\n",
       "      <td>NaN</td>\n",
       "      <td>NaN</td>\n",
       "      <td>NaN</td>\n",
       "      <td>0.489828</td>\n",
       "      <td>0.416483</td>\n",
       "      <td>0.075458</td>\n",
       "    </tr>\n",
       "    <tr>\n",
       "      <th>bumps5</th>\n",
       "      <td>-0.009863</td>\n",
       "      <td>0.049450</td>\n",
       "      <td>0.123229</td>\n",
       "      <td>0.141044</td>\n",
       "      <td>0.069613</td>\n",
       "      <td>-0.005251</td>\n",
       "      <td>0.046498</td>\n",
       "      <td>-0.016580</td>\n",
       "      <td>1.000000</td>\n",
       "      <td>NaN</td>\n",
       "      <td>NaN</td>\n",
       "      <td>NaN</td>\n",
       "      <td>0.773605</td>\n",
       "      <td>0.808406</td>\n",
       "      <td>0.004834</td>\n",
       "    </tr>\n",
       "    <tr>\n",
       "      <th>bumps6</th>\n",
       "      <td>NaN</td>\n",
       "      <td>NaN</td>\n",
       "      <td>NaN</td>\n",
       "      <td>NaN</td>\n",
       "      <td>NaN</td>\n",
       "      <td>NaN</td>\n",
       "      <td>NaN</td>\n",
       "      <td>NaN</td>\n",
       "      <td>NaN</td>\n",
       "      <td>NaN</td>\n",
       "      <td>NaN</td>\n",
       "      <td>NaN</td>\n",
       "      <td>NaN</td>\n",
       "      <td>NaN</td>\n",
       "      <td>NaN</td>\n",
       "    </tr>\n",
       "    <tr>\n",
       "      <th>bumps7</th>\n",
       "      <td>NaN</td>\n",
       "      <td>NaN</td>\n",
       "      <td>NaN</td>\n",
       "      <td>NaN</td>\n",
       "      <td>NaN</td>\n",
       "      <td>NaN</td>\n",
       "      <td>NaN</td>\n",
       "      <td>NaN</td>\n",
       "      <td>NaN</td>\n",
       "      <td>NaN</td>\n",
       "      <td>NaN</td>\n",
       "      <td>NaN</td>\n",
       "      <td>NaN</td>\n",
       "      <td>NaN</td>\n",
       "      <td>NaN</td>\n",
       "    </tr>\n",
       "    <tr>\n",
       "      <th>bumps8</th>\n",
       "      <td>NaN</td>\n",
       "      <td>NaN</td>\n",
       "      <td>NaN</td>\n",
       "      <td>NaN</td>\n",
       "      <td>NaN</td>\n",
       "      <td>NaN</td>\n",
       "      <td>NaN</td>\n",
       "      <td>NaN</td>\n",
       "      <td>NaN</td>\n",
       "      <td>NaN</td>\n",
       "      <td>NaN</td>\n",
       "      <td>NaN</td>\n",
       "      <td>NaN</td>\n",
       "      <td>NaN</td>\n",
       "      <td>NaN</td>\n",
       "    </tr>\n",
       "    <tr>\n",
       "      <th>energy</th>\n",
       "      <td>0.080828</td>\n",
       "      <td>0.187350</td>\n",
       "      <td>0.105971</td>\n",
       "      <td>0.143277</td>\n",
       "      <td>0.347852</td>\n",
       "      <td>0.124650</td>\n",
       "      <td>0.244083</td>\n",
       "      <td>0.489828</td>\n",
       "      <td>0.773605</td>\n",
       "      <td>NaN</td>\n",
       "      <td>NaN</td>\n",
       "      <td>NaN</td>\n",
       "      <td>1.000000</td>\n",
       "      <td>0.989547</td>\n",
       "      <td>0.058431</td>\n",
       "    </tr>\n",
       "    <tr>\n",
       "      <th>maxenergy</th>\n",
       "      <td>0.064405</td>\n",
       "      <td>0.164263</td>\n",
       "      <td>0.108572</td>\n",
       "      <td>0.143646</td>\n",
       "      <td>0.273714</td>\n",
       "      <td>0.085032</td>\n",
       "      <td>0.176480</td>\n",
       "      <td>0.416483</td>\n",
       "      <td>0.808406</td>\n",
       "      <td>NaN</td>\n",
       "      <td>NaN</td>\n",
       "      <td>NaN</td>\n",
       "      <td>0.989547</td>\n",
       "      <td>1.000000</td>\n",
       "      <td>0.040243</td>\n",
       "    </tr>\n",
       "    <tr>\n",
       "      <th>class</th>\n",
       "      <td>0.128160</td>\n",
       "      <td>0.201042</td>\n",
       "      <td>0.002957</td>\n",
       "      <td>0.021788</td>\n",
       "      <td>0.248144</td>\n",
       "      <td>0.201381</td>\n",
       "      <td>0.205327</td>\n",
       "      <td>0.075458</td>\n",
       "      <td>0.004834</td>\n",
       "      <td>NaN</td>\n",
       "      <td>NaN</td>\n",
       "      <td>NaN</td>\n",
       "      <td>0.058431</td>\n",
       "      <td>0.040243</td>\n",
       "      <td>1.000000</td>\n",
       "    </tr>\n",
       "  </tbody>\n",
       "</table>\n",
       "</div>"
      ],
      "text/plain": [
       "            genergy     gplus  gdenergy    gdpuls     bumps    bumps2  \\\n",
       "genergy    1.000000  0.748020  0.048514  0.071554  0.220720  0.143587   \n",
       "gplus      0.748020  1.000000  0.293036  0.382906  0.300923  0.207390   \n",
       "gdenergy   0.048514  0.293036  1.000000  0.811944  0.030039  0.041246   \n",
       "gdpuls     0.071554  0.382906  0.811944  1.000000  0.057996  0.051106   \n",
       "bumps      0.220720  0.300923  0.030039  0.057996  1.000000  0.804978   \n",
       "bumps2     0.143587  0.207390  0.041246  0.051106  0.804978  1.000000   \n",
       "bumps3     0.191753  0.225695 -0.012189  0.014735  0.803364  0.350724   \n",
       "bumps4     0.150589  0.256547  0.036916  0.066195  0.395052  0.161296   \n",
       "bumps5    -0.009863  0.049450  0.123229  0.141044  0.069613 -0.005251   \n",
       "bumps6          NaN       NaN       NaN       NaN       NaN       NaN   \n",
       "bumps7          NaN       NaN       NaN       NaN       NaN       NaN   \n",
       "bumps8          NaN       NaN       NaN       NaN       NaN       NaN   \n",
       "energy     0.080828  0.187350  0.105971  0.143277  0.347852  0.124650   \n",
       "maxenergy  0.064405  0.164263  0.108572  0.143646  0.273714  0.085032   \n",
       "class      0.128160  0.201042  0.002957  0.021788  0.248144  0.201381   \n",
       "\n",
       "             bumps3    bumps4    bumps5  bumps6  bumps7  bumps8    energy  \\\n",
       "genergy    0.191753  0.150589 -0.009863     NaN     NaN     NaN  0.080828   \n",
       "gplus      0.225695  0.256547  0.049450     NaN     NaN     NaN  0.187350   \n",
       "gdenergy  -0.012189  0.036916  0.123229     NaN     NaN     NaN  0.105971   \n",
       "gdpuls     0.014735  0.066195  0.141044     NaN     NaN     NaN  0.143277   \n",
       "bumps      0.803364  0.395052  0.069613     NaN     NaN     NaN  0.347852   \n",
       "bumps2     0.350724  0.161296 -0.005251     NaN     NaN     NaN  0.124650   \n",
       "bumps3     1.000000  0.175301  0.046498     NaN     NaN     NaN  0.244083   \n",
       "bumps4     0.175301  1.000000 -0.016580     NaN     NaN     NaN  0.489828   \n",
       "bumps5     0.046498 -0.016580  1.000000     NaN     NaN     NaN  0.773605   \n",
       "bumps6          NaN       NaN       NaN     NaN     NaN     NaN       NaN   \n",
       "bumps7          NaN       NaN       NaN     NaN     NaN     NaN       NaN   \n",
       "bumps8          NaN       NaN       NaN     NaN     NaN     NaN       NaN   \n",
       "energy     0.244083  0.489828  0.773605     NaN     NaN     NaN  1.000000   \n",
       "maxenergy  0.176480  0.416483  0.808406     NaN     NaN     NaN  0.989547   \n",
       "class      0.205327  0.075458  0.004834     NaN     NaN     NaN  0.058431   \n",
       "\n",
       "           maxenergy     class  \n",
       "genergy     0.064405  0.128160  \n",
       "gplus       0.164263  0.201042  \n",
       "gdenergy    0.108572  0.002957  \n",
       "gdpuls      0.143646  0.021788  \n",
       "bumps       0.273714  0.248144  \n",
       "bumps2      0.085032  0.201381  \n",
       "bumps3      0.176480  0.205327  \n",
       "bumps4      0.416483  0.075458  \n",
       "bumps5      0.808406  0.004834  \n",
       "bumps6           NaN       NaN  \n",
       "bumps7           NaN       NaN  \n",
       "bumps8           NaN       NaN  \n",
       "energy      0.989547  0.058431  \n",
       "maxenergy   1.000000  0.040243  \n",
       "class       0.040243  1.000000  "
      ]
     },
     "execution_count": 15,
     "metadata": {},
     "output_type": "execute_result"
    }
   ],
   "source": [
    "data.corr()"
   ]
  },
  {
   "cell_type": "markdown",
   "metadata": {},
   "source": [
    "#### Строим различные графики зависмости bumps и genergy"
   ]
  },
  {
   "cell_type": "code",
   "execution_count": 16,
   "metadata": {},
   "outputs": [
    {
     "data": {
      "image/png": "[encoded data removed]",
      "text/plain": [
       "<Figure size 432x288 with 1 Axes>"
      ]
     },
     "metadata": {},
     "output_type": "display_data"
    }
   ],
   "source": [
    "plt.plot(data['bumps'], data['genergy'], 'o', alpha = 0.05)\n",
    "plt.xlabel('bumps')\n",
    "plt.ylabel('genergy')\n",
    "plt.title('bumps vs genergy')\n",
    "pass"
   ]
  },
  {
   "cell_type": "code",
   "execution_count": 17,
   "metadata": {
    "scrolled": true
   },
   "outputs": [
    {
     "data": {
      "image/png": "[encoded data removed]",
      "text/plain": [
       "<Figure size 720x432 with 1 Axes>"
      ]
     },
     "metadata": {},
     "output_type": "display_data"
    }
   ],
   "source": [
    "plt.figure(figsize = (10, 6))\n",
    "\n",
    "plt.scatter(data[data['class'] == 0]['bumps'],\n",
    "            data[data['class'] == 0]['genergy'],\n",
    "            alpha = 0.15,\n",
    "            label = 'non-hazardous state',\n",
    "            color = 'b')\n",
    "\n",
    "plt.scatter(data[data['class'] == 1]['bumps'],\n",
    "            data[data['class'] == 1]['genergy'],\n",
    "            alpha = 0.05,\n",
    "            label = 'hazardous state',\n",
    "            color = 'r')\n",
    "\n",
    "plt.xlabel('bumps')\n",
    "plt.ylabel('genergy')\n",
    "plt.legend()\n",
    "plt.grid()"
   ]
  },
  {
   "cell_type": "code",
   "execution_count": 18,
   "metadata": {},
   "outputs": [
    {
     "data": {
      "image/png": "[encoded data removed]",
      "text/plain": [
       "<Figure size 720x576 with 1 Axes>"
      ]
     },
     "metadata": {},
     "output_type": "display_data"
    }
   ],
   "source": [
    "np.random.seed(0)\n",
    "bumps_rnd = data['bumps'] + np.random.rand(data.shape[0]) - .5\n",
    "\n",
    "plt.figure(figsize = (10, 8))\n",
    "\n",
    "plt.scatter(bumps_rnd[data['class'] == 0],\n",
    "            data[data['class'] == 0]['genergy'],\n",
    "            alpha = 0.15,\n",
    "            label = 'non-hazardous state',\n",
    "            color = 'b')\n",
    "\n",
    "plt.scatter(bumps_rnd[data['class'] == 1],\n",
    "            data[data['class'] == 1]['genergy'],\n",
    "            alpha = 0.15,\n",
    "            label = 'hazardous state',\n",
    "            color = 'r')\n",
    "\n",
    "plt.xlabel('bumps')\n",
    "plt.ylabel('genergy')\n",
    "plt.title('Polish coal mine')\n",
    "plt.grid()"
   ]
  },
  {
   "cell_type": "markdown",
   "metadata": {},
   "source": [
    "#### Выводим описательную статистику по всем атрибутам"
   ]
  },
  {
   "cell_type": "code",
   "execution_count": 19,
   "metadata": {
    "scrolled": true
   },
   "outputs": [
    {
     "data": {
      "text/html": [
       "<div>\n",
       "<style scoped>\n",
       "    .dataframe tbody tr th:only-of-type {\n",
       "        vertical-align: middle;\n",
       "    }\n",
       "\n",
       "    .dataframe tbody tr th {\n",
       "        vertical-align: top;\n",
       "    }\n",
       "\n",
       "    .dataframe thead th {\n",
       "        text-align: right;\n",
       "    }\n",
       "</style>\n",
       "<table border=\"1\" class=\"dataframe\">\n",
       "  <thead>\n",
       "    <tr style=\"text-align: right;\">\n",
       "      <th></th>\n",
       "      <th>%seismic</th>\n",
       "      <th>seismoacoustic</th>\n",
       "      <th>shift</th>\n",
       "      <th>genergy</th>\n",
       "      <th>gplus</th>\n",
       "      <th>gdenergy</th>\n",
       "      <th>gdpuls</th>\n",
       "      <th>hazard</th>\n",
       "      <th>bumps</th>\n",
       "      <th>bumps2</th>\n",
       "      <th>bumps3</th>\n",
       "      <th>bumps4</th>\n",
       "      <th>bumps5</th>\n",
       "      <th>bumps6</th>\n",
       "      <th>bumps7</th>\n",
       "      <th>bumps8</th>\n",
       "      <th>energy</th>\n",
       "      <th>maxenergy</th>\n",
       "      <th>class</th>\n",
       "    </tr>\n",
       "  </thead>\n",
       "  <tbody>\n",
       "    <tr>\n",
       "      <th>count</th>\n",
       "      <td>2584</td>\n",
       "      <td>2584</td>\n",
       "      <td>2584</td>\n",
       "      <td>2.584000e+03</td>\n",
       "      <td>2584.000000</td>\n",
       "      <td>2584.000000</td>\n",
       "      <td>2584.000000</td>\n",
       "      <td>2584</td>\n",
       "      <td>2584.000000</td>\n",
       "      <td>2584.000000</td>\n",
       "      <td>2584.000000</td>\n",
       "      <td>2584.000000</td>\n",
       "      <td>2584.000000</td>\n",
       "      <td>2584.0</td>\n",
       "      <td>2584.0</td>\n",
       "      <td>2584.0</td>\n",
       "      <td>2584.000000</td>\n",
       "      <td>2584.000000</td>\n",
       "      <td>2584.000000</td>\n",
       "    </tr>\n",
       "    <tr>\n",
       "      <th>unique</th>\n",
       "      <td>2</td>\n",
       "      <td>3</td>\n",
       "      <td>2</td>\n",
       "      <td>NaN</td>\n",
       "      <td>NaN</td>\n",
       "      <td>NaN</td>\n",
       "      <td>NaN</td>\n",
       "      <td>3</td>\n",
       "      <td>NaN</td>\n",
       "      <td>NaN</td>\n",
       "      <td>NaN</td>\n",
       "      <td>NaN</td>\n",
       "      <td>NaN</td>\n",
       "      <td>NaN</td>\n",
       "      <td>NaN</td>\n",
       "      <td>NaN</td>\n",
       "      <td>NaN</td>\n",
       "      <td>NaN</td>\n",
       "      <td>NaN</td>\n",
       "    </tr>\n",
       "    <tr>\n",
       "      <th>top</th>\n",
       "      <td>a</td>\n",
       "      <td>a</td>\n",
       "      <td>W</td>\n",
       "      <td>NaN</td>\n",
       "      <td>NaN</td>\n",
       "      <td>NaN</td>\n",
       "      <td>NaN</td>\n",
       "      <td>a</td>\n",
       "      <td>NaN</td>\n",
       "      <td>NaN</td>\n",
       "      <td>NaN</td>\n",
       "      <td>NaN</td>\n",
       "      <td>NaN</td>\n",
       "      <td>NaN</td>\n",
       "      <td>NaN</td>\n",
       "      <td>NaN</td>\n",
       "      <td>NaN</td>\n",
       "      <td>NaN</td>\n",
       "      <td>NaN</td>\n",
       "    </tr>\n",
       "    <tr>\n",
       "      <th>freq</th>\n",
       "      <td>1682</td>\n",
       "      <td>1580</td>\n",
       "      <td>1663</td>\n",
       "      <td>NaN</td>\n",
       "      <td>NaN</td>\n",
       "      <td>NaN</td>\n",
       "      <td>NaN</td>\n",
       "      <td>2342</td>\n",
       "      <td>NaN</td>\n",
       "      <td>NaN</td>\n",
       "      <td>NaN</td>\n",
       "      <td>NaN</td>\n",
       "      <td>NaN</td>\n",
       "      <td>NaN</td>\n",
       "      <td>NaN</td>\n",
       "      <td>NaN</td>\n",
       "      <td>NaN</td>\n",
       "      <td>NaN</td>\n",
       "      <td>NaN</td>\n",
       "    </tr>\n",
       "    <tr>\n",
       "      <th>mean</th>\n",
       "      <td>NaN</td>\n",
       "      <td>NaN</td>\n",
       "      <td>NaN</td>\n",
       "      <td>9.024252e+04</td>\n",
       "      <td>538.579334</td>\n",
       "      <td>12.375774</td>\n",
       "      <td>4.508901</td>\n",
       "      <td>NaN</td>\n",
       "      <td>0.859520</td>\n",
       "      <td>0.393576</td>\n",
       "      <td>0.392802</td>\n",
       "      <td>0.067724</td>\n",
       "      <td>0.004644</td>\n",
       "      <td>0.0</td>\n",
       "      <td>0.0</td>\n",
       "      <td>0.0</td>\n",
       "      <td>4975.270898</td>\n",
       "      <td>4278.850619</td>\n",
       "      <td>0.065789</td>\n",
       "    </tr>\n",
       "    <tr>\n",
       "      <th>std</th>\n",
       "      <td>NaN</td>\n",
       "      <td>NaN</td>\n",
       "      <td>NaN</td>\n",
       "      <td>2.292005e+05</td>\n",
       "      <td>562.652536</td>\n",
       "      <td>80.319051</td>\n",
       "      <td>63.166556</td>\n",
       "      <td>NaN</td>\n",
       "      <td>1.364616</td>\n",
       "      <td>0.783772</td>\n",
       "      <td>0.769710</td>\n",
       "      <td>0.279059</td>\n",
       "      <td>0.068001</td>\n",
       "      <td>0.0</td>\n",
       "      <td>0.0</td>\n",
       "      <td>0.0</td>\n",
       "      <td>20450.833222</td>\n",
       "      <td>19357.454882</td>\n",
       "      <td>0.247962</td>\n",
       "    </tr>\n",
       "    <tr>\n",
       "      <th>min</th>\n",
       "      <td>NaN</td>\n",
       "      <td>NaN</td>\n",
       "      <td>NaN</td>\n",
       "      <td>1.000000e+02</td>\n",
       "      <td>2.000000</td>\n",
       "      <td>-96.000000</td>\n",
       "      <td>-96.000000</td>\n",
       "      <td>NaN</td>\n",
       "      <td>0.000000</td>\n",
       "      <td>0.000000</td>\n",
       "      <td>0.000000</td>\n",
       "      <td>0.000000</td>\n",
       "      <td>0.000000</td>\n",
       "      <td>0.0</td>\n",
       "      <td>0.0</td>\n",
       "      <td>0.0</td>\n",
       "      <td>0.000000</td>\n",
       "      <td>0.000000</td>\n",
       "      <td>0.000000</td>\n",
       "    </tr>\n",
       "    <tr>\n",
       "      <th>25%</th>\n",
       "      <td>NaN</td>\n",
       "      <td>NaN</td>\n",
       "      <td>NaN</td>\n",
       "      <td>1.166000e+04</td>\n",
       "      <td>190.000000</td>\n",
       "      <td>-37.000000</td>\n",
       "      <td>-36.000000</td>\n",
       "      <td>NaN</td>\n",
       "      <td>0.000000</td>\n",
       "      <td>0.000000</td>\n",
       "      <td>0.000000</td>\n",
       "      <td>0.000000</td>\n",
       "      <td>0.000000</td>\n",
       "      <td>0.0</td>\n",
       "      <td>0.0</td>\n",
       "      <td>0.0</td>\n",
       "      <td>0.000000</td>\n",
       "      <td>0.000000</td>\n",
       "      <td>0.000000</td>\n",
       "    </tr>\n",
       "    <tr>\n",
       "      <th>50%</th>\n",
       "      <td>NaN</td>\n",
       "      <td>NaN</td>\n",
       "      <td>NaN</td>\n",
       "      <td>2.548500e+04</td>\n",
       "      <td>379.000000</td>\n",
       "      <td>-6.000000</td>\n",
       "      <td>-6.000000</td>\n",
       "      <td>NaN</td>\n",
       "      <td>0.000000</td>\n",
       "      <td>0.000000</td>\n",
       "      <td>0.000000</td>\n",
       "      <td>0.000000</td>\n",
       "      <td>0.000000</td>\n",
       "      <td>0.0</td>\n",
       "      <td>0.0</td>\n",
       "      <td>0.0</td>\n",
       "      <td>0.000000</td>\n",
       "      <td>0.000000</td>\n",
       "      <td>0.000000</td>\n",
       "    </tr>\n",
       "    <tr>\n",
       "      <th>75%</th>\n",
       "      <td>NaN</td>\n",
       "      <td>NaN</td>\n",
       "      <td>NaN</td>\n",
       "      <td>5.283250e+04</td>\n",
       "      <td>669.000000</td>\n",
       "      <td>38.000000</td>\n",
       "      <td>30.250000</td>\n",
       "      <td>NaN</td>\n",
       "      <td>1.000000</td>\n",
       "      <td>1.000000</td>\n",
       "      <td>1.000000</td>\n",
       "      <td>0.000000</td>\n",
       "      <td>0.000000</td>\n",
       "      <td>0.0</td>\n",
       "      <td>0.0</td>\n",
       "      <td>0.0</td>\n",
       "      <td>2600.000000</td>\n",
       "      <td>2000.000000</td>\n",
       "      <td>0.000000</td>\n",
       "    </tr>\n",
       "    <tr>\n",
       "      <th>max</th>\n",
       "      <td>NaN</td>\n",
       "      <td>NaN</td>\n",
       "      <td>NaN</td>\n",
       "      <td>2.595650e+06</td>\n",
       "      <td>4518.000000</td>\n",
       "      <td>1245.000000</td>\n",
       "      <td>838.000000</td>\n",
       "      <td>NaN</td>\n",
       "      <td>9.000000</td>\n",
       "      <td>8.000000</td>\n",
       "      <td>7.000000</td>\n",
       "      <td>3.000000</td>\n",
       "      <td>1.000000</td>\n",
       "      <td>0.0</td>\n",
       "      <td>0.0</td>\n",
       "      <td>0.0</td>\n",
       "      <td>402000.000000</td>\n",
       "      <td>400000.000000</td>\n",
       "      <td>1.000000</td>\n",
       "    </tr>\n",
       "  </tbody>\n",
       "</table>\n",
       "</div>"
      ],
      "text/plain": [
       "       %seismic seismoacoustic shift       genergy        gplus     gdenergy  \\\n",
       "count      2584           2584  2584  2.584000e+03  2584.000000  2584.000000   \n",
       "unique        2              3     2           NaN          NaN          NaN   \n",
       "top           a              a     W           NaN          NaN          NaN   \n",
       "freq       1682           1580  1663           NaN          NaN          NaN   \n",
       "mean        NaN            NaN   NaN  9.024252e+04   538.579334    12.375774   \n",
       "std         NaN            NaN   NaN  2.292005e+05   562.652536    80.319051   \n",
       "min         NaN            NaN   NaN  1.000000e+02     2.000000   -96.000000   \n",
       "25%         NaN            NaN   NaN  1.166000e+04   190.000000   -37.000000   \n",
       "50%         NaN            NaN   NaN  2.548500e+04   379.000000    -6.000000   \n",
       "75%         NaN            NaN   NaN  5.283250e+04   669.000000    38.000000   \n",
       "max         NaN            NaN   NaN  2.595650e+06  4518.000000  1245.000000   \n",
       "\n",
       "             gdpuls hazard        bumps       bumps2       bumps3  \\\n",
       "count   2584.000000   2584  2584.000000  2584.000000  2584.000000   \n",
       "unique          NaN      3          NaN          NaN          NaN   \n",
       "top             NaN      a          NaN          NaN          NaN   \n",
       "freq            NaN   2342          NaN          NaN          NaN   \n",
       "mean       4.508901    NaN     0.859520     0.393576     0.392802   \n",
       "std       63.166556    NaN     1.364616     0.783772     0.769710   \n",
       "min      -96.000000    NaN     0.000000     0.000000     0.000000   \n",
       "25%      -36.000000    NaN     0.000000     0.000000     0.000000   \n",
       "50%       -6.000000    NaN     0.000000     0.000000     0.000000   \n",
       "75%       30.250000    NaN     1.000000     1.000000     1.000000   \n",
       "max      838.000000    NaN     9.000000     8.000000     7.000000   \n",
       "\n",
       "             bumps4       bumps5  bumps6  bumps7  bumps8         energy  \\\n",
       "count   2584.000000  2584.000000  2584.0  2584.0  2584.0    2584.000000   \n",
       "unique          NaN          NaN     NaN     NaN     NaN            NaN   \n",
       "top             NaN          NaN     NaN     NaN     NaN            NaN   \n",
       "freq            NaN          NaN     NaN     NaN     NaN            NaN   \n",
       "mean       0.067724     0.004644     0.0     0.0     0.0    4975.270898   \n",
       "std        0.279059     0.068001     0.0     0.0     0.0   20450.833222   \n",
       "min        0.000000     0.000000     0.0     0.0     0.0       0.000000   \n",
       "25%        0.000000     0.000000     0.0     0.0     0.0       0.000000   \n",
       "50%        0.000000     0.000000     0.0     0.0     0.0       0.000000   \n",
       "75%        0.000000     0.000000     0.0     0.0     0.0    2600.000000   \n",
       "max        3.000000     1.000000     0.0     0.0     0.0  402000.000000   \n",
       "\n",
       "            maxenergy        class  \n",
       "count     2584.000000  2584.000000  \n",
       "unique            NaN          NaN  \n",
       "top               NaN          NaN  \n",
       "freq              NaN          NaN  \n",
       "mean      4278.850619     0.065789  \n",
       "std      19357.454882     0.247962  \n",
       "min          0.000000     0.000000  \n",
       "25%          0.000000     0.000000  \n",
       "50%          0.000000     0.000000  \n",
       "75%       2000.000000     0.000000  \n",
       "max     400000.000000     1.000000  "
      ]
     },
     "execution_count": 19,
     "metadata": {},
     "output_type": "execute_result"
    }
   ],
   "source": [
    "data.describe(include = 'all')"
   ]
  },
  {
   "cell_type": "markdown",
   "metadata": {},
   "source": [
    "#### Выводим все возможные значения, которые принимают атрибуты shift, seismoacoustic, seismic"
   ]
  },
  {
   "cell_type": "code",
   "execution_count": 20,
   "metadata": {},
   "outputs": [
    {
     "data": {
      "text/plain": [
       "array(['N', 'W'], dtype=object)"
      ]
     },
     "execution_count": 20,
     "metadata": {},
     "output_type": "execute_result"
    }
   ],
   "source": [
    "data['shift'].unique()"
   ]
  },
  {
   "cell_type": "code",
   "execution_count": 21,
   "metadata": {},
   "outputs": [
    {
     "data": {
      "text/plain": [
       "array(['a', 'b', 'c'], dtype=object)"
      ]
     },
     "execution_count": 21,
     "metadata": {},
     "output_type": "execute_result"
    }
   ],
   "source": [
    "data['seismoacoustic'].unique()"
   ]
  },
  {
   "cell_type": "code",
   "execution_count": 22,
   "metadata": {},
   "outputs": [
    {
     "data": {
      "text/plain": [
       "array(['a', 'b'], dtype=object)"
      ]
     },
     "execution_count": 22,
     "metadata": {},
     "output_type": "execute_result"
    }
   ],
   "source": [
    "data['%seismic'].unique()"
   ]
  },
  {
   "cell_type": "markdown",
   "metadata": {},
   "source": [
    "# Готовим данные"
   ]
  },
  {
   "cell_type": "markdown",
   "metadata": {},
   "source": [
    "#### Замечаем, что\n",
    "`bumps6`, `bumps7`и `bumps8`= 0 для всех объектов датасета, т.е. должны быть удалены из датасета, так как никак не повлияют на результат классификации"
   ]
  },
  {
   "cell_type": "code",
   "execution_count": 3,
   "metadata": {},
   "outputs": [
    {
     "name": "stdout",
     "output_type": "stream",
     "text": [
      "Series([], Name: bumps6, dtype: int64)\n"
     ]
    }
   ],
   "source": [
    "print(data[data['bumps6'] != 0]['bumps6'])"
   ]
  },
  {
   "cell_type": "code",
   "execution_count": 4,
   "metadata": {},
   "outputs": [
    {
     "name": "stdout",
     "output_type": "stream",
     "text": [
      "Series([], Name: bumps7, dtype: int64)\n"
     ]
    }
   ],
   "source": [
    "print(data[data['bumps7'] != 0]['bumps7'])"
   ]
  },
  {
   "cell_type": "code",
   "execution_count": 3,
   "metadata": {},
   "outputs": [
    {
     "name": "stdout",
     "output_type": "stream",
     "text": [
      "Series([], Name: bumps8, dtype: int64)\n"
     ]
    }
   ],
   "source": [
    "print(data[data['bumps8'] != 0]['bumps8'])"
   ]
  },
  {
   "cell_type": "code",
   "execution_count": 3,
   "metadata": {},
   "outputs": [],
   "source": [
    "data = data.drop('bumps6',   axis = 1)\\\n",
    "           .drop('bumps7',   axis = 1)\\\n",
    "           .drop('bumps8',      axis = 1) "
   ]
  },
  {
   "cell_type": "markdown",
   "metadata": {},
   "source": [
    "#### Выделяем из данных категориальные и количественные признаки"
   ]
  },
  {
   "cell_type": "code",
   "execution_count": 4,
   "metadata": {},
   "outputs": [
    {
     "name": "stdout",
     "output_type": "stream",
     "text": [
      "['%seismic', 'seismoacoustic', 'shift', 'hazard']\n",
      "['genergy', 'gplus', 'gdenergy', 'gdpuls', 'bumps', 'bumps2', 'bumps3', 'bumps4', 'bumps5', 'energy', 'maxenergy', 'class']\n"
     ]
    }
   ],
   "source": [
    "categorical_columns = [c for c in data.columns if data[c].dtype.name == 'object']\n",
    "numerical_columns   = [c for c in data.columns if data[c].dtype.name != 'object']\n",
    "print(categorical_columns)\n",
    "print(numerical_columns)"
   ]
  },
  {
   "cell_type": "code",
   "execution_count": 5,
   "metadata": {},
   "outputs": [
    {
     "name": "stdout",
     "output_type": "stream",
     "text": [
      "%seismic ['a' 'b']\n",
      "seismoacoustic ['a' 'b' 'c']\n",
      "shift ['N' 'W']\n",
      "hazard ['a' 'b' 'c']\n"
     ]
    }
   ],
   "source": [
    "for c in categorical_columns:\n",
    "    print(c, data[c].unique())"
   ]
  },
  {
   "cell_type": "markdown",
   "metadata": {},
   "source": [
    "#### Проводим векторизацию для категориальных признаков (заменяем их на эквивалентные количественные). Отдельно обрабатываем бинарные и небинарные признаки."
   ]
  },
  {
   "cell_type": "code",
   "execution_count": 6,
   "metadata": {},
   "outputs": [
    {
     "name": "stdout",
     "output_type": "stream",
     "text": [
      "['%seismic', 'shift'] ['seismoacoustic', 'hazard']\n"
     ]
    }
   ],
   "source": [
    "data_describe = data.describe(include = [object])\n",
    "binary_columns    = [c for c in categorical_columns if data_describe[c]['unique'] == 2]\n",
    "nonbinary_columns = [c for c in categorical_columns if data_describe[c]['unique'] > 2]\n",
    "print(binary_columns, nonbinary_columns)"
   ]
  },
  {
   "cell_type": "code",
   "execution_count": 7,
   "metadata": {},
   "outputs": [
    {
     "data": {
      "text/plain": [
       "count    2584.000000\n",
       "mean        0.643576\n",
       "std         0.479035\n",
       "min         0.000000\n",
       "25%         0.000000\n",
       "50%         1.000000\n",
       "75%         1.000000\n",
       "max         1.000000\n",
       "Name: shift, dtype: float64"
      ]
     },
     "execution_count": 7,
     "metadata": {},
     "output_type": "execute_result"
    }
   ],
   "source": [
    "data.at[data['shift'] == 'N', 'shift'] = 0\n",
    "data.at[data['shift'] == 'W', 'shift'] = 1\n",
    "data['shift'].describe()"
   ]
  },
  {
   "cell_type": "code",
   "execution_count": 8,
   "metadata": {},
   "outputs": [
    {
     "data": {
      "text/plain": [
       "count    2584.000000\n",
       "mean        0.349071\n",
       "std         0.476769\n",
       "min         0.000000\n",
       "25%         0.000000\n",
       "50%         0.000000\n",
       "75%         1.000000\n",
       "max         1.000000\n",
       "Name: %seismic, dtype: float64"
      ]
     },
     "execution_count": 8,
     "metadata": {},
     "output_type": "execute_result"
    }
   ],
   "source": [
    "data.at[data['%seismic'] == 'a', '%seismic'] = 0\n",
    "data.at[data['%seismic'] == 'b', '%seismic'] = 1\n",
    "data['%seismic'].describe()"
   ]
  },
  {
   "cell_type": "code",
   "execution_count": 9,
   "metadata": {},
   "outputs": [
    {
     "name": "stdout",
     "output_type": "stream",
     "text": [
      "Index(['seismoacoustic_a', 'seismoacoustic_b', 'seismoacoustic_c', 'hazard_a',\n",
      "       'hazard_b', 'hazard_c'],\n",
      "      dtype='object')\n"
     ]
    }
   ],
   "source": [
    "data_nonbinary = pd.get_dummies(data[nonbinary_columns])\n",
    "print(data_nonbinary.columns)"
   ]
  },
  {
   "cell_type": "markdown",
   "metadata": {},
   "source": [
    "#### Нормализуем количественные признаки (при этом оставляем целевой столбец class нетронутым)"
   ]
  },
  {
   "cell_type": "code",
   "execution_count": 10,
   "metadata": {},
   "outputs": [
    {
     "data": {
      "text/html": [
       "<div>\n",
       "<style scoped>\n",
       "    .dataframe tbody tr th:only-of-type {\n",
       "        vertical-align: middle;\n",
       "    }\n",
       "\n",
       "    .dataframe tbody tr th {\n",
       "        vertical-align: top;\n",
       "    }\n",
       "\n",
       "    .dataframe thead th {\n",
       "        text-align: right;\n",
       "    }\n",
       "</style>\n",
       "<table border=\"1\" class=\"dataframe\">\n",
       "  <thead>\n",
       "    <tr style=\"text-align: right;\">\n",
       "      <th></th>\n",
       "      <th>genergy</th>\n",
       "      <th>gplus</th>\n",
       "      <th>gdenergy</th>\n",
       "      <th>gdpuls</th>\n",
       "      <th>bumps</th>\n",
       "      <th>bumps2</th>\n",
       "      <th>bumps3</th>\n",
       "      <th>bumps4</th>\n",
       "      <th>bumps5</th>\n",
       "      <th>energy</th>\n",
       "      <th>maxenergy</th>\n",
       "    </tr>\n",
       "  </thead>\n",
       "  <tbody>\n",
       "    <tr>\n",
       "      <th>count</th>\n",
       "      <td>2.584000e+03</td>\n",
       "      <td>2584.000000</td>\n",
       "      <td>2584.000000</td>\n",
       "      <td>2584.000000</td>\n",
       "      <td>2584.000000</td>\n",
       "      <td>2584.000000</td>\n",
       "      <td>2584.000000</td>\n",
       "      <td>2584.000000</td>\n",
       "      <td>2584.000000</td>\n",
       "      <td>2584.000000</td>\n",
       "      <td>2584.000000</td>\n",
       "    </tr>\n",
       "    <tr>\n",
       "      <th>mean</th>\n",
       "      <td>9.024252e+04</td>\n",
       "      <td>538.579334</td>\n",
       "      <td>12.375774</td>\n",
       "      <td>4.508901</td>\n",
       "      <td>0.859520</td>\n",
       "      <td>0.393576</td>\n",
       "      <td>0.392802</td>\n",
       "      <td>0.067724</td>\n",
       "      <td>0.004644</td>\n",
       "      <td>4975.270898</td>\n",
       "      <td>4278.850619</td>\n",
       "    </tr>\n",
       "    <tr>\n",
       "      <th>std</th>\n",
       "      <td>2.292005e+05</td>\n",
       "      <td>562.652536</td>\n",
       "      <td>80.319051</td>\n",
       "      <td>63.166556</td>\n",
       "      <td>1.364616</td>\n",
       "      <td>0.783772</td>\n",
       "      <td>0.769710</td>\n",
       "      <td>0.279059</td>\n",
       "      <td>0.068001</td>\n",
       "      <td>20450.833222</td>\n",
       "      <td>19357.454882</td>\n",
       "    </tr>\n",
       "    <tr>\n",
       "      <th>min</th>\n",
       "      <td>1.000000e+02</td>\n",
       "      <td>2.000000</td>\n",
       "      <td>-96.000000</td>\n",
       "      <td>-96.000000</td>\n",
       "      <td>0.000000</td>\n",
       "      <td>0.000000</td>\n",
       "      <td>0.000000</td>\n",
       "      <td>0.000000</td>\n",
       "      <td>0.000000</td>\n",
       "      <td>0.000000</td>\n",
       "      <td>0.000000</td>\n",
       "    </tr>\n",
       "    <tr>\n",
       "      <th>25%</th>\n",
       "      <td>1.166000e+04</td>\n",
       "      <td>190.000000</td>\n",
       "      <td>-37.000000</td>\n",
       "      <td>-36.000000</td>\n",
       "      <td>0.000000</td>\n",
       "      <td>0.000000</td>\n",
       "      <td>0.000000</td>\n",
       "      <td>0.000000</td>\n",
       "      <td>0.000000</td>\n",
       "      <td>0.000000</td>\n",
       "      <td>0.000000</td>\n",
       "    </tr>\n",
       "    <tr>\n",
       "      <th>50%</th>\n",
       "      <td>2.548500e+04</td>\n",
       "      <td>379.000000</td>\n",
       "      <td>-6.000000</td>\n",
       "      <td>-6.000000</td>\n",
       "      <td>0.000000</td>\n",
       "      <td>0.000000</td>\n",
       "      <td>0.000000</td>\n",
       "      <td>0.000000</td>\n",
       "      <td>0.000000</td>\n",
       "      <td>0.000000</td>\n",
       "      <td>0.000000</td>\n",
       "    </tr>\n",
       "    <tr>\n",
       "      <th>75%</th>\n",
       "      <td>5.283250e+04</td>\n",
       "      <td>669.000000</td>\n",
       "      <td>38.000000</td>\n",
       "      <td>30.250000</td>\n",
       "      <td>1.000000</td>\n",
       "      <td>1.000000</td>\n",
       "      <td>1.000000</td>\n",
       "      <td>0.000000</td>\n",
       "      <td>0.000000</td>\n",
       "      <td>2600.000000</td>\n",
       "      <td>2000.000000</td>\n",
       "    </tr>\n",
       "    <tr>\n",
       "      <th>max</th>\n",
       "      <td>2.595650e+06</td>\n",
       "      <td>4518.000000</td>\n",
       "      <td>1245.000000</td>\n",
       "      <td>838.000000</td>\n",
       "      <td>9.000000</td>\n",
       "      <td>8.000000</td>\n",
       "      <td>7.000000</td>\n",
       "      <td>3.000000</td>\n",
       "      <td>1.000000</td>\n",
       "      <td>402000.000000</td>\n",
       "      <td>400000.000000</td>\n",
       "    </tr>\n",
       "  </tbody>\n",
       "</table>\n",
       "</div>"
      ],
      "text/plain": [
       "            genergy        gplus     gdenergy       gdpuls        bumps  \\\n",
       "count  2.584000e+03  2584.000000  2584.000000  2584.000000  2584.000000   \n",
       "mean   9.024252e+04   538.579334    12.375774     4.508901     0.859520   \n",
       "std    2.292005e+05   562.652536    80.319051    63.166556     1.364616   \n",
       "min    1.000000e+02     2.000000   -96.000000   -96.000000     0.000000   \n",
       "25%    1.166000e+04   190.000000   -37.000000   -36.000000     0.000000   \n",
       "50%    2.548500e+04   379.000000    -6.000000    -6.000000     0.000000   \n",
       "75%    5.283250e+04   669.000000    38.000000    30.250000     1.000000   \n",
       "max    2.595650e+06  4518.000000  1245.000000   838.000000     9.000000   \n",
       "\n",
       "            bumps2       bumps3       bumps4       bumps5         energy  \\\n",
       "count  2584.000000  2584.000000  2584.000000  2584.000000    2584.000000   \n",
       "mean      0.393576     0.392802     0.067724     0.004644    4975.270898   \n",
       "std       0.783772     0.769710     0.279059     0.068001   20450.833222   \n",
       "min       0.000000     0.000000     0.000000     0.000000       0.000000   \n",
       "25%       0.000000     0.000000     0.000000     0.000000       0.000000   \n",
       "50%       0.000000     0.000000     0.000000     0.000000       0.000000   \n",
       "75%       1.000000     1.000000     0.000000     0.000000    2600.000000   \n",
       "max       8.000000     7.000000     3.000000     1.000000  402000.000000   \n",
       "\n",
       "           maxenergy  \n",
       "count    2584.000000  \n",
       "mean     4278.850619  \n",
       "std     19357.454882  \n",
       "min         0.000000  \n",
       "25%         0.000000  \n",
       "50%         0.000000  \n",
       "75%      2000.000000  \n",
       "max    400000.000000  "
      ]
     },
     "execution_count": 10,
     "metadata": {},
     "output_type": "execute_result"
    }
   ],
   "source": [
    "data_numerical = data[numerical_columns]\n",
    "data_numerical = data_numerical.drop(('class'), axis = 1)\n",
    "data_numerical.describe()"
   ]
  },
  {
   "cell_type": "code",
   "execution_count": 11,
   "metadata": {},
   "outputs": [],
   "source": [
    "data_numerical = (data_numerical - data_numerical.mean(axis = 0))/data_numerical.std(axis = 0)"
   ]
  },
  {
   "cell_type": "code",
   "execution_count": 12,
   "metadata": {},
   "outputs": [
    {
     "data": {
      "text/html": [
       "<div>\n",
       "<style scoped>\n",
       "    .dataframe tbody tr th:only-of-type {\n",
       "        vertical-align: middle;\n",
       "    }\n",
       "\n",
       "    .dataframe tbody tr th {\n",
       "        vertical-align: top;\n",
       "    }\n",
       "\n",
       "    .dataframe thead th {\n",
       "        text-align: right;\n",
       "    }\n",
       "</style>\n",
       "<table border=\"1\" class=\"dataframe\">\n",
       "  <thead>\n",
       "    <tr style=\"text-align: right;\">\n",
       "      <th></th>\n",
       "      <th>genergy</th>\n",
       "      <th>gplus</th>\n",
       "      <th>gdenergy</th>\n",
       "      <th>gdpuls</th>\n",
       "      <th>bumps</th>\n",
       "      <th>bumps2</th>\n",
       "      <th>bumps3</th>\n",
       "      <th>bumps4</th>\n",
       "      <th>bumps5</th>\n",
       "      <th>energy</th>\n",
       "      <th>maxenergy</th>\n",
       "    </tr>\n",
       "  </thead>\n",
       "  <tbody>\n",
       "    <tr>\n",
       "      <th>count</th>\n",
       "      <td>2.584000e+03</td>\n",
       "      <td>2.584000e+03</td>\n",
       "      <td>2.584000e+03</td>\n",
       "      <td>2.584000e+03</td>\n",
       "      <td>2.584000e+03</td>\n",
       "      <td>2.584000e+03</td>\n",
       "      <td>2.584000e+03</td>\n",
       "      <td>2.584000e+03</td>\n",
       "      <td>2.584000e+03</td>\n",
       "      <td>2.584000e+03</td>\n",
       "      <td>2.584000e+03</td>\n",
       "    </tr>\n",
       "    <tr>\n",
       "      <th>mean</th>\n",
       "      <td>-3.542488e-16</td>\n",
       "      <td>-1.529135e-16</td>\n",
       "      <td>-9.604890e-17</td>\n",
       "      <td>-1.501422e-16</td>\n",
       "      <td>-5.364560e-15</td>\n",
       "      <td>3.492562e-15</td>\n",
       "      <td>1.264554e-15</td>\n",
       "      <td>-2.837277e-15</td>\n",
       "      <td>4.060972e-16</td>\n",
       "      <td>1.129579e-15</td>\n",
       "      <td>-8.477266e-16</td>\n",
       "    </tr>\n",
       "    <tr>\n",
       "      <th>std</th>\n",
       "      <td>1.000000e+00</td>\n",
       "      <td>1.000000e+00</td>\n",
       "      <td>1.000000e+00</td>\n",
       "      <td>1.000000e+00</td>\n",
       "      <td>1.000000e+00</td>\n",
       "      <td>1.000000e+00</td>\n",
       "      <td>1.000000e+00</td>\n",
       "      <td>1.000000e+00</td>\n",
       "      <td>1.000000e+00</td>\n",
       "      <td>1.000000e+00</td>\n",
       "      <td>1.000000e+00</td>\n",
       "    </tr>\n",
       "    <tr>\n",
       "      <th>min</th>\n",
       "      <td>-3.932911e-01</td>\n",
       "      <td>-9.536602e-01</td>\n",
       "      <td>-1.349316e+00</td>\n",
       "      <td>-1.591173e+00</td>\n",
       "      <td>-6.298621e-01</td>\n",
       "      <td>-5.021560e-01</td>\n",
       "      <td>-5.103247e-01</td>\n",
       "      <td>-2.426888e-01</td>\n",
       "      <td>-6.829220e-02</td>\n",
       "      <td>-2.432796e-01</td>\n",
       "      <td>-2.210441e-01</td>\n",
       "    </tr>\n",
       "    <tr>\n",
       "      <th>25%</th>\n",
       "      <td>-3.428549e-01</td>\n",
       "      <td>-6.195286e-01</td>\n",
       "      <td>-6.147455e-01</td>\n",
       "      <td>-6.413030e-01</td>\n",
       "      <td>-6.298621e-01</td>\n",
       "      <td>-5.021560e-01</td>\n",
       "      <td>-5.103247e-01</td>\n",
       "      <td>-2.426888e-01</td>\n",
       "      <td>-6.829220e-02</td>\n",
       "      <td>-2.432796e-01</td>\n",
       "      <td>-2.210441e-01</td>\n",
       "    </tr>\n",
       "    <tr>\n",
       "      <th>50%</th>\n",
       "      <td>-2.825366e-01</td>\n",
       "      <td>-2.836197e-01</td>\n",
       "      <td>-2.287848e-01</td>\n",
       "      <td>-1.663681e-01</td>\n",
       "      <td>-6.298621e-01</td>\n",
       "      <td>-5.021560e-01</td>\n",
       "      <td>-5.103247e-01</td>\n",
       "      <td>-2.426888e-01</td>\n",
       "      <td>-6.829220e-02</td>\n",
       "      <td>-2.432796e-01</td>\n",
       "      <td>-2.210441e-01</td>\n",
       "    </tr>\n",
       "    <tr>\n",
       "      <th>75%</th>\n",
       "      <td>-1.632196e-01</td>\n",
       "      <td>2.317961e-01</td>\n",
       "      <td>3.190305e-01</td>\n",
       "      <td>4.075115e-01</td>\n",
       "      <td>1.029446e-01</td>\n",
       "      <td>7.737252e-01</td>\n",
       "      <td>7.888664e-01</td>\n",
       "      <td>-2.426888e-01</td>\n",
       "      <td>-6.829220e-02</td>\n",
       "      <td>-1.161454e-01</td>\n",
       "      <td>-1.177247e-01</td>\n",
       "    </tr>\n",
       "    <tr>\n",
       "      <th>max</th>\n",
       "      <td>1.093107e+01</td>\n",
       "      <td>7.072608e+00</td>\n",
       "      <td>1.534660e+01</td>\n",
       "      <td>1.319513e+01</td>\n",
       "      <td>5.965398e+00</td>\n",
       "      <td>9.704893e+00</td>\n",
       "      <td>8.584013e+00</td>\n",
       "      <td>1.050773e+01</td>\n",
       "      <td>1.463729e+01</td>\n",
       "      <td>1.941362e+01</td>\n",
       "      <td>2.044283e+01</td>\n",
       "    </tr>\n",
       "  </tbody>\n",
       "</table>\n",
       "</div>"
      ],
      "text/plain": [
       "            genergy         gplus      gdenergy        gdpuls         bumps  \\\n",
       "count  2.584000e+03  2.584000e+03  2.584000e+03  2.584000e+03  2.584000e+03   \n",
       "mean  -3.542488e-16 -1.529135e-16 -9.604890e-17 -1.501422e-16 -5.364560e-15   \n",
       "std    1.000000e+00  1.000000e+00  1.000000e+00  1.000000e+00  1.000000e+00   \n",
       "min   -3.932911e-01 -9.536602e-01 -1.349316e+00 -1.591173e+00 -6.298621e-01   \n",
       "25%   -3.428549e-01 -6.195286e-01 -6.147455e-01 -6.413030e-01 -6.298621e-01   \n",
       "50%   -2.825366e-01 -2.836197e-01 -2.287848e-01 -1.663681e-01 -6.298621e-01   \n",
       "75%   -1.632196e-01  2.317961e-01  3.190305e-01  4.075115e-01  1.029446e-01   \n",
       "max    1.093107e+01  7.072608e+00  1.534660e+01  1.319513e+01  5.965398e+00   \n",
       "\n",
       "             bumps2        bumps3        bumps4        bumps5        energy  \\\n",
       "count  2.584000e+03  2.584000e+03  2.584000e+03  2.584000e+03  2.584000e+03   \n",
       "mean   3.492562e-15  1.264554e-15 -2.837277e-15  4.060972e-16  1.129579e-15   \n",
       "std    1.000000e+00  1.000000e+00  1.000000e+00  1.000000e+00  1.000000e+00   \n",
       "min   -5.021560e-01 -5.103247e-01 -2.426888e-01 -6.829220e-02 -2.432796e-01   \n",
       "25%   -5.021560e-01 -5.103247e-01 -2.426888e-01 -6.829220e-02 -2.432796e-01   \n",
       "50%   -5.021560e-01 -5.103247e-01 -2.426888e-01 -6.829220e-02 -2.432796e-01   \n",
       "75%    7.737252e-01  7.888664e-01 -2.426888e-01 -6.829220e-02 -1.161454e-01   \n",
       "max    9.704893e+00  8.584013e+00  1.050773e+01  1.463729e+01  1.941362e+01   \n",
       "\n",
       "          maxenergy  \n",
       "count  2.584000e+03  \n",
       "mean  -8.477266e-16  \n",
       "std    1.000000e+00  \n",
       "min   -2.210441e-01  \n",
       "25%   -2.210441e-01  \n",
       "50%   -2.210441e-01  \n",
       "75%   -1.177247e-01  \n",
       "max    2.044283e+01  "
      ]
     },
     "execution_count": 12,
     "metadata": {},
     "output_type": "execute_result"
    }
   ],
   "source": [
    "data_numerical.describe()"
   ]
  },
  {
   "cell_type": "markdown",
   "metadata": {},
   "source": [
    "## Соединяем все в одну таблицу"
   ]
  },
  {
   "cell_type": "code",
   "execution_count": 13,
   "metadata": {},
   "outputs": [
    {
     "name": "stdout",
     "output_type": "stream",
     "text": [
      "(2584, 20)\n"
     ]
    }
   ],
   "source": [
    "data = pd.concat((data_numerical, data_nonbinary, data[binary_columns], data['class']), axis = 1)\n",
    "print(data.shape)"
   ]
  },
  {
   "cell_type": "code",
   "execution_count": 14,
   "metadata": {},
   "outputs": [
    {
     "data": {
      "text/html": [
       "<div>\n",
       "<style scoped>\n",
       "    .dataframe tbody tr th:only-of-type {\n",
       "        vertical-align: middle;\n",
       "    }\n",
       "\n",
       "    .dataframe tbody tr th {\n",
       "        vertical-align: top;\n",
       "    }\n",
       "\n",
       "    .dataframe thead th {\n",
       "        text-align: right;\n",
       "    }\n",
       "</style>\n",
       "<table border=\"1\" class=\"dataframe\">\n",
       "  <thead>\n",
       "    <tr style=\"text-align: right;\">\n",
       "      <th></th>\n",
       "      <th>genergy</th>\n",
       "      <th>gplus</th>\n",
       "      <th>gdenergy</th>\n",
       "      <th>gdpuls</th>\n",
       "      <th>bumps</th>\n",
       "      <th>bumps2</th>\n",
       "      <th>bumps3</th>\n",
       "      <th>bumps4</th>\n",
       "      <th>bumps5</th>\n",
       "      <th>energy</th>\n",
       "      <th>maxenergy</th>\n",
       "      <th>seismoacoustic_a</th>\n",
       "      <th>seismoacoustic_b</th>\n",
       "      <th>seismoacoustic_c</th>\n",
       "      <th>hazard_a</th>\n",
       "      <th>hazard_b</th>\n",
       "      <th>hazard_c</th>\n",
       "      <th>%seismic</th>\n",
       "      <th>shift</th>\n",
       "      <th>class</th>\n",
       "    </tr>\n",
       "  </thead>\n",
       "  <tbody>\n",
       "    <tr>\n",
       "      <th>count</th>\n",
       "      <td>2.584000e+03</td>\n",
       "      <td>2.584000e+03</td>\n",
       "      <td>2.584000e+03</td>\n",
       "      <td>2.584000e+03</td>\n",
       "      <td>2.584000e+03</td>\n",
       "      <td>2.584000e+03</td>\n",
       "      <td>2.584000e+03</td>\n",
       "      <td>2.584000e+03</td>\n",
       "      <td>2.584000e+03</td>\n",
       "      <td>2.584000e+03</td>\n",
       "      <td>2.584000e+03</td>\n",
       "      <td>2584.000000</td>\n",
       "      <td>2584.000000</td>\n",
       "      <td>2584.000000</td>\n",
       "      <td>2584.000000</td>\n",
       "      <td>2584.000000</td>\n",
       "      <td>2584.000000</td>\n",
       "      <td>2584.000000</td>\n",
       "      <td>2584.000000</td>\n",
       "      <td>2584.000000</td>\n",
       "    </tr>\n",
       "    <tr>\n",
       "      <th>mean</th>\n",
       "      <td>-3.542488e-16</td>\n",
       "      <td>-1.529135e-16</td>\n",
       "      <td>-9.604890e-17</td>\n",
       "      <td>-1.501422e-16</td>\n",
       "      <td>-5.364560e-15</td>\n",
       "      <td>3.492562e-15</td>\n",
       "      <td>1.264554e-15</td>\n",
       "      <td>-2.837277e-15</td>\n",
       "      <td>4.060972e-16</td>\n",
       "      <td>1.129579e-15</td>\n",
       "      <td>-8.477266e-16</td>\n",
       "      <td>0.611455</td>\n",
       "      <td>0.369969</td>\n",
       "      <td>0.018576</td>\n",
       "      <td>0.906347</td>\n",
       "      <td>0.082043</td>\n",
       "      <td>0.011610</td>\n",
       "      <td>0.349071</td>\n",
       "      <td>0.643576</td>\n",
       "      <td>0.065789</td>\n",
       "    </tr>\n",
       "    <tr>\n",
       "      <th>std</th>\n",
       "      <td>1.000000e+00</td>\n",
       "      <td>1.000000e+00</td>\n",
       "      <td>1.000000e+00</td>\n",
       "      <td>1.000000e+00</td>\n",
       "      <td>1.000000e+00</td>\n",
       "      <td>1.000000e+00</td>\n",
       "      <td>1.000000e+00</td>\n",
       "      <td>1.000000e+00</td>\n",
       "      <td>1.000000e+00</td>\n",
       "      <td>1.000000e+00</td>\n",
       "      <td>1.000000e+00</td>\n",
       "      <td>0.487514</td>\n",
       "      <td>0.482889</td>\n",
       "      <td>0.135048</td>\n",
       "      <td>0.291402</td>\n",
       "      <td>0.274484</td>\n",
       "      <td>0.107143</td>\n",
       "      <td>0.476769</td>\n",
       "      <td>0.479035</td>\n",
       "      <td>0.247962</td>\n",
       "    </tr>\n",
       "    <tr>\n",
       "      <th>min</th>\n",
       "      <td>-3.932911e-01</td>\n",
       "      <td>-9.536602e-01</td>\n",
       "      <td>-1.349316e+00</td>\n",
       "      <td>-1.591173e+00</td>\n",
       "      <td>-6.298621e-01</td>\n",
       "      <td>-5.021560e-01</td>\n",
       "      <td>-5.103247e-01</td>\n",
       "      <td>-2.426888e-01</td>\n",
       "      <td>-6.829220e-02</td>\n",
       "      <td>-2.432796e-01</td>\n",
       "      <td>-2.210441e-01</td>\n",
       "      <td>0.000000</td>\n",
       "      <td>0.000000</td>\n",
       "      <td>0.000000</td>\n",
       "      <td>0.000000</td>\n",
       "      <td>0.000000</td>\n",
       "      <td>0.000000</td>\n",
       "      <td>0.000000</td>\n",
       "      <td>0.000000</td>\n",
       "      <td>0.000000</td>\n",
       "    </tr>\n",
       "    <tr>\n",
       "      <th>25%</th>\n",
       "      <td>-3.428549e-01</td>\n",
       "      <td>-6.195286e-01</td>\n",
       "      <td>-6.147455e-01</td>\n",
       "      <td>-6.413030e-01</td>\n",
       "      <td>-6.298621e-01</td>\n",
       "      <td>-5.021560e-01</td>\n",
       "      <td>-5.103247e-01</td>\n",
       "      <td>-2.426888e-01</td>\n",
       "      <td>-6.829220e-02</td>\n",
       "      <td>-2.432796e-01</td>\n",
       "      <td>-2.210441e-01</td>\n",
       "      <td>0.000000</td>\n",
       "      <td>0.000000</td>\n",
       "      <td>0.000000</td>\n",
       "      <td>1.000000</td>\n",
       "      <td>0.000000</td>\n",
       "      <td>0.000000</td>\n",
       "      <td>0.000000</td>\n",
       "      <td>0.000000</td>\n",
       "      <td>0.000000</td>\n",
       "    </tr>\n",
       "    <tr>\n",
       "      <th>50%</th>\n",
       "      <td>-2.825366e-01</td>\n",
       "      <td>-2.836197e-01</td>\n",
       "      <td>-2.287848e-01</td>\n",
       "      <td>-1.663681e-01</td>\n",
       "      <td>-6.298621e-01</td>\n",
       "      <td>-5.021560e-01</td>\n",
       "      <td>-5.103247e-01</td>\n",
       "      <td>-2.426888e-01</td>\n",
       "      <td>-6.829220e-02</td>\n",
       "      <td>-2.432796e-01</td>\n",
       "      <td>-2.210441e-01</td>\n",
       "      <td>1.000000</td>\n",
       "      <td>0.000000</td>\n",
       "      <td>0.000000</td>\n",
       "      <td>1.000000</td>\n",
       "      <td>0.000000</td>\n",
       "      <td>0.000000</td>\n",
       "      <td>0.000000</td>\n",
       "      <td>1.000000</td>\n",
       "      <td>0.000000</td>\n",
       "    </tr>\n",
       "    <tr>\n",
       "      <th>75%</th>\n",
       "      <td>-1.632196e-01</td>\n",
       "      <td>2.317961e-01</td>\n",
       "      <td>3.190305e-01</td>\n",
       "      <td>4.075115e-01</td>\n",
       "      <td>1.029446e-01</td>\n",
       "      <td>7.737252e-01</td>\n",
       "      <td>7.888664e-01</td>\n",
       "      <td>-2.426888e-01</td>\n",
       "      <td>-6.829220e-02</td>\n",
       "      <td>-1.161454e-01</td>\n",
       "      <td>-1.177247e-01</td>\n",
       "      <td>1.000000</td>\n",
       "      <td>1.000000</td>\n",
       "      <td>0.000000</td>\n",
       "      <td>1.000000</td>\n",
       "      <td>0.000000</td>\n",
       "      <td>0.000000</td>\n",
       "      <td>1.000000</td>\n",
       "      <td>1.000000</td>\n",
       "      <td>0.000000</td>\n",
       "    </tr>\n",
       "    <tr>\n",
       "      <th>max</th>\n",
       "      <td>1.093107e+01</td>\n",
       "      <td>7.072608e+00</td>\n",
       "      <td>1.534660e+01</td>\n",
       "      <td>1.319513e+01</td>\n",
       "      <td>5.965398e+00</td>\n",
       "      <td>9.704893e+00</td>\n",
       "      <td>8.584013e+00</td>\n",
       "      <td>1.050773e+01</td>\n",
       "      <td>1.463729e+01</td>\n",
       "      <td>1.941362e+01</td>\n",
       "      <td>2.044283e+01</td>\n",
       "      <td>1.000000</td>\n",
       "      <td>1.000000</td>\n",
       "      <td>1.000000</td>\n",
       "      <td>1.000000</td>\n",
       "      <td>1.000000</td>\n",
       "      <td>1.000000</td>\n",
       "      <td>1.000000</td>\n",
       "      <td>1.000000</td>\n",
       "      <td>1.000000</td>\n",
       "    </tr>\n",
       "  </tbody>\n",
       "</table>\n",
       "</div>"
      ],
      "text/plain": [
       "            genergy         gplus      gdenergy        gdpuls         bumps  \\\n",
       "count  2.584000e+03  2.584000e+03  2.584000e+03  2.584000e+03  2.584000e+03   \n",
       "mean  -3.542488e-16 -1.529135e-16 -9.604890e-17 -1.501422e-16 -5.364560e-15   \n",
       "std    1.000000e+00  1.000000e+00  1.000000e+00  1.000000e+00  1.000000e+00   \n",
       "min   -3.932911e-01 -9.536602e-01 -1.349316e+00 -1.591173e+00 -6.298621e-01   \n",
       "25%   -3.428549e-01 -6.195286e-01 -6.147455e-01 -6.413030e-01 -6.298621e-01   \n",
       "50%   -2.825366e-01 -2.836197e-01 -2.287848e-01 -1.663681e-01 -6.298621e-01   \n",
       "75%   -1.632196e-01  2.317961e-01  3.190305e-01  4.075115e-01  1.029446e-01   \n",
       "max    1.093107e+01  7.072608e+00  1.534660e+01  1.319513e+01  5.965398e+00   \n",
       "\n",
       "             bumps2        bumps3        bumps4        bumps5        energy  \\\n",
       "count  2.584000e+03  2.584000e+03  2.584000e+03  2.584000e+03  2.584000e+03   \n",
       "mean   3.492562e-15  1.264554e-15 -2.837277e-15  4.060972e-16  1.129579e-15   \n",
       "std    1.000000e+00  1.000000e+00  1.000000e+00  1.000000e+00  1.000000e+00   \n",
       "min   -5.021560e-01 -5.103247e-01 -2.426888e-01 -6.829220e-02 -2.432796e-01   \n",
       "25%   -5.021560e-01 -5.103247e-01 -2.426888e-01 -6.829220e-02 -2.432796e-01   \n",
       "50%   -5.021560e-01 -5.103247e-01 -2.426888e-01 -6.829220e-02 -2.432796e-01   \n",
       "75%    7.737252e-01  7.888664e-01 -2.426888e-01 -6.829220e-02 -1.161454e-01   \n",
       "max    9.704893e+00  8.584013e+00  1.050773e+01  1.463729e+01  1.941362e+01   \n",
       "\n",
       "          maxenergy  seismoacoustic_a  seismoacoustic_b  seismoacoustic_c  \\\n",
       "count  2.584000e+03       2584.000000       2584.000000       2584.000000   \n",
       "mean  -8.477266e-16          0.611455          0.369969          0.018576   \n",
       "std    1.000000e+00          0.487514          0.482889          0.135048   \n",
       "min   -2.210441e-01          0.000000          0.000000          0.000000   \n",
       "25%   -2.210441e-01          0.000000          0.000000          0.000000   \n",
       "50%   -2.210441e-01          1.000000          0.000000          0.000000   \n",
       "75%   -1.177247e-01          1.000000          1.000000          0.000000   \n",
       "max    2.044283e+01          1.000000          1.000000          1.000000   \n",
       "\n",
       "          hazard_a     hazard_b     hazard_c     %seismic        shift  \\\n",
       "count  2584.000000  2584.000000  2584.000000  2584.000000  2584.000000   \n",
       "mean      0.906347     0.082043     0.011610     0.349071     0.643576   \n",
       "std       0.291402     0.274484     0.107143     0.476769     0.479035   \n",
       "min       0.000000     0.000000     0.000000     0.000000     0.000000   \n",
       "25%       1.000000     0.000000     0.000000     0.000000     0.000000   \n",
       "50%       1.000000     0.000000     0.000000     0.000000     1.000000   \n",
       "75%       1.000000     0.000000     0.000000     1.000000     1.000000   \n",
       "max       1.000000     1.000000     1.000000     1.000000     1.000000   \n",
       "\n",
       "             class  \n",
       "count  2584.000000  \n",
       "mean      0.065789  \n",
       "std       0.247962  \n",
       "min       0.000000  \n",
       "25%       0.000000  \n",
       "50%       0.000000  \n",
       "75%       0.000000  \n",
       "max       1.000000  "
      ]
     },
     "execution_count": 14,
     "metadata": {},
     "output_type": "execute_result"
    }
   ],
   "source": [
    "data.describe()"
   ]
  },
  {
   "cell_type": "markdown",
   "metadata": {},
   "source": [
    "## Проблема несбалансированности данных"
   ]
  },
  {
   "cell_type": "code",
   "execution_count": 15,
   "metadata": {},
   "outputs": [
    {
     "data": {
      "text/plain": [
       "0    2414\n",
       "1     170\n",
       "Name: class, dtype: int64"
      ]
     },
     "execution_count": 15,
     "metadata": {},
     "output_type": "execute_result"
    }
   ],
   "source": [
    "data['class'].value_counts()"
   ]
  },
  {
   "cell_type": "code",
   "execution_count": 16,
   "metadata": {},
   "outputs": [],
   "source": [
    "# Class count 0-no, 1-yes\n",
    "count_class_0, count_class_1 = data['class'].value_counts()\n",
    "\n",
    "# Divide by class\n",
    "df_class_0 = data[data['class'] == 0]\n",
    "df_class_1 = data[data['class'] == 1]"
   ]
  },
  {
   "cell_type": "markdown",
   "metadata": {},
   "source": [
    "Python imbalanced-learn module"
   ]
  },
  {
   "cell_type": "code",
   "execution_count": 17,
   "metadata": {},
   "outputs": [],
   "source": [
    "import imblearn\n",
    "def plot_2d_space(X, y, label='Classes'):   \n",
    "    colors = ['#FF2D00', '#0049FF']\n",
    "    markers = ['o', 's']\n",
    "    for l, c, m in zip(np.unique(y), colors, markers):\n",
    "        plt.scatter(\n",
    "            X[y==l, 0],\n",
    "            X[y==l, 1],\n",
    "            c=c, label=l, marker=m\n",
    "        )\n",
    "    plt.title(label)\n",
    "    plt.legend(loc='upper right')\n",
    "    plt.show()"
   ]
  },
  {
   "cell_type": "markdown",
   "metadata": {},
   "source": [
    "Выделяем X и Y, отбрасывая столбец class и применяя сэмплирование"
   ]
  },
  {
   "cell_type": "code",
   "execution_count": 18,
   "metadata": {},
   "outputs": [
    {
     "name": "stdout",
     "output_type": "stream",
     "text": [
      "2244 new random picked points\n"
     ]
    },
    {
     "data": {
      "image/png": "[encoded data removed]",
      "text/plain": [
       "<Figure size 432x288 with 1 Axes>"
      ]
     },
     "metadata": {},
     "output_type": "display_data"
    },
    {
     "data": {
      "text/plain": [
       "{0: 2414, 1: 2414}"
      ]
     },
     "execution_count": 18,
     "metadata": {},
     "output_type": "execute_result"
    }
   ],
   "source": [
    "from imblearn.over_sampling import RandomOverSampler\n",
    "\n",
    "ros = RandomOverSampler()\n",
    "X = data.drop(('class'), axis = 1)\n",
    "y = data['class']\n",
    "X_ros, y_ros = ros.fit_sample(X, y)\n",
    "\n",
    "print(X_ros.shape[0] - X.shape[0], 'new random picked points')\n",
    "\n",
    "plot_2d_space(X_ros, y_ros, 'Random over-sampling')\n",
    "unique, counts = np.unique(y_ros, return_counts=True)\n",
    "dict(zip(unique, counts))"
   ]
  },
  {
   "cell_type": "code",
   "execution_count": 19,
   "metadata": {},
   "outputs": [],
   "source": [
    "feature_names = X.columns"
   ]
  },
  {
   "cell_type": "code",
   "execution_count": 20,
   "metadata": {},
   "outputs": [
    {
     "data": {
      "text/plain": [
       "Index(['genergy', 'gplus', 'gdenergy', 'gdpuls', 'bumps', 'bumps2', 'bumps3',\n",
       "       'bumps4', 'bumps5', 'energy', 'maxenergy', 'seismoacoustic_a',\n",
       "       'seismoacoustic_b', 'seismoacoustic_c', 'hazard_a', 'hazard_b',\n",
       "       'hazard_c', '%seismic', 'shift'],\n",
       "      dtype='object')"
      ]
     },
     "execution_count": 20,
     "metadata": {},
     "output_type": "execute_result"
    }
   ],
   "source": [
    "feature_names"
   ]
  },
  {
   "cell_type": "markdown",
   "metadata": {},
   "source": [
    "## Разделение на тестовую и обучающую выборки\n",
    "\n",
    "30% тестовая выборка, 70% обучающая"
   ]
  },
  {
   "cell_type": "code",
   "execution_count": 21,
   "metadata": {},
   "outputs": [
    {
     "name": "stdout",
     "output_type": "stream",
     "text": [
      "3379 1449\n"
     ]
    }
   ],
   "source": [
    "from sklearn.model_selection import train_test_split\n",
    "X_train, X_test, y_train, y_test = train_test_split(X_ros, y_ros, test_size = 0.3, random_state = 42)\n",
    "\n",
    "N_train, _ = X_train.shape \n",
    "N_test,  _ = X_test.shape \n",
    "\n",
    "print(N_train, N_test)"
   ]
  },
  {
   "cell_type": "markdown",
   "metadata": {},
   "source": [
    "# $k$NN\n",
    "\n",
    "Тренируем классификатор методом k ближайших соседей, выводим ошибки на тестовой и обучающей выборках, \n",
    "а также матрицу несоответствий для определения ошибок первого и второго рода"
   ]
  },
  {
   "cell_type": "code",
   "execution_count": 99,
   "metadata": {},
   "outputs": [
    {
     "data": {
      "text/plain": [
       "KNeighborsClassifier(algorithm='auto', leaf_size=30, metric='minkowski',\n",
       "           metric_params=None, n_jobs=None, n_neighbors=10, p=2,\n",
       "           weights='uniform')"
      ]
     },
     "execution_count": 99,
     "metadata": {},
     "output_type": "execute_result"
    }
   ],
   "source": [
    "from sklearn.neighbors import KNeighborsClassifier\n",
    "\n",
    "knn = KNeighborsClassifier(n_neighbors = 10)\n",
    "knn.fit(X_train, y_train)"
   ]
  },
  {
   "cell_type": "code",
   "execution_count": 100,
   "metadata": {},
   "outputs": [
    {
     "name": "stdout",
     "output_type": "stream",
     "text": [
      "0.12400118378218408 0.15458937198067632\n"
     ]
    }
   ],
   "source": [
    "y_train_predict = knn.predict(X_train)\n",
    "y_test_predict = knn.predict(X_test)\n",
    "\n",
    "err_train = np.mean(y_train != y_train_predict)\n",
    "err_test  = np.mean(y_test  != y_test_predict)\n",
    "\n",
    "print(err_train, err_test)"
   ]
  },
  {
   "cell_type": "code",
   "execution_count": 101,
   "metadata": {},
   "outputs": [],
   "source": [
    "err_test = 1 - knn.score(X_test, y_test)"
   ]
  },
  {
   "cell_type": "code",
   "execution_count": 102,
   "metadata": {},
   "outputs": [
    {
     "data": {
      "text/plain": [
       "0.15458937198067635"
      ]
     },
     "execution_count": 102,
     "metadata": {},
     "output_type": "execute_result"
    }
   ],
   "source": [
    "err_test"
   ]
  },
  {
   "cell_type": "code",
   "execution_count": 103,
   "metadata": {},
   "outputs": [
    {
     "name": "stdout",
     "output_type": "stream",
     "text": [
      "[[553 191]\n",
      " [ 33 672]]\n"
     ]
    }
   ],
   "source": [
    "from sklearn.metrics import confusion_matrix\n",
    "\n",
    "print(confusion_matrix(y_test, y_test_predict))"
   ]
  },
  {
   "cell_type": "code",
   "execution_count": 104,
   "metadata": {},
   "outputs": [
    {
     "data": {
      "text/html": [
       "<div>\n",
       "<style scoped>\n",
       "    .dataframe tbody tr th:only-of-type {\n",
       "        vertical-align: middle;\n",
       "    }\n",
       "\n",
       "    .dataframe tbody tr th {\n",
       "        vertical-align: top;\n",
       "    }\n",
       "\n",
       "    .dataframe thead th {\n",
       "        text-align: right;\n",
       "    }\n",
       "</style>\n",
       "<table border=\"1\" class=\"dataframe\">\n",
       "  <thead>\n",
       "    <tr style=\"text-align: right;\">\n",
       "      <th>Predicted</th>\n",
       "      <th>0</th>\n",
       "      <th>1</th>\n",
       "      <th>All</th>\n",
       "    </tr>\n",
       "    <tr>\n",
       "      <th>True</th>\n",
       "      <th></th>\n",
       "      <th></th>\n",
       "      <th></th>\n",
       "    </tr>\n",
       "  </thead>\n",
       "  <tbody>\n",
       "    <tr>\n",
       "      <th>0</th>\n",
       "      <td>553</td>\n",
       "      <td>191</td>\n",
       "      <td>744</td>\n",
       "    </tr>\n",
       "    <tr>\n",
       "      <th>1</th>\n",
       "      <td>33</td>\n",
       "      <td>672</td>\n",
       "      <td>705</td>\n",
       "    </tr>\n",
       "    <tr>\n",
       "      <th>All</th>\n",
       "      <td>586</td>\n",
       "      <td>863</td>\n",
       "      <td>1449</td>\n",
       "    </tr>\n",
       "  </tbody>\n",
       "</table>\n",
       "</div>"
      ],
      "text/plain": [
       "Predicted    0    1   All\n",
       "True                     \n",
       "0          553  191   744\n",
       "1           33  672   705\n",
       "All        586  863  1449"
      ]
     },
     "execution_count": 104,
     "metadata": {},
     "output_type": "execute_result"
    }
   ],
   "source": [
    "pd.crosstab(y_test, y_test_predict, rownames=['True'], colnames=['Predicted'], margins=True)"
   ]
  },
  {
   "cell_type": "markdown",
   "metadata": {},
   "source": [
    "### Подбор параметра k ближайших соседей\n",
    "\n",
    "Тренируем классификатор с выбранным параметром"
   ]
  },
  {
   "cell_type": "code",
   "execution_count": 105,
   "metadata": {},
   "outputs": [
    {
     "name": "stdout",
     "output_type": "stream",
     "text": [
      "0.03699319325244155 1\n"
     ]
    }
   ],
   "source": [
    "from sklearn.model_selection import GridSearchCV\n",
    "nnb = [1, 3, 5, 10, 15, 20, 25, 35, 45, 55]\n",
    "knn = KNeighborsClassifier()\n",
    "grid = GridSearchCV(knn, param_grid = {'n_neighbors': nnb}, cv=10)\n",
    "grid.fit(X_train, y_train)\n",
    "\n",
    "best_cv_err = 1 - grid.best_score_\n",
    "best_n_neighbors = grid.best_estimator_.n_neighbors\n",
    "print(best_cv_err, best_n_neighbors)"
   ]
  },
  {
   "cell_type": "code",
   "execution_count": 106,
   "metadata": {},
   "outputs": [
    {
     "name": "stdout",
     "output_type": "stream",
     "text": [
      "0.0 0.04071773636991028\n"
     ]
    }
   ],
   "source": [
    "knn = KNeighborsClassifier(n_neighbors = best_n_neighbors).fit(X_train, y_train)\n",
    "\n",
    "y_train_predict = knn.predict(X_train)\n",
    "y_test_predict = knn.predict(X_test)\n",
    "\n",
    "err_train = np.mean(y_train != knn.predict(X_train))\n",
    "err_test  = np.mean(y_test  != knn.predict(X_test))\n",
    "\n",
    "print(err_train, err_test)"
   ]
  },
  {
   "cell_type": "code",
   "execution_count": 107,
   "metadata": {},
   "outputs": [
    {
     "data": {
      "text/html": [
       "<div>\n",
       "<style scoped>\n",
       "    .dataframe tbody tr th:only-of-type {\n",
       "        vertical-align: middle;\n",
       "    }\n",
       "\n",
       "    .dataframe tbody tr th {\n",
       "        vertical-align: top;\n",
       "    }\n",
       "\n",
       "    .dataframe thead th {\n",
       "        text-align: right;\n",
       "    }\n",
       "</style>\n",
       "<table border=\"1\" class=\"dataframe\">\n",
       "  <thead>\n",
       "    <tr style=\"text-align: right;\">\n",
       "      <th>Predicted</th>\n",
       "      <th>0</th>\n",
       "      <th>1</th>\n",
       "      <th>All</th>\n",
       "    </tr>\n",
       "    <tr>\n",
       "      <th>True</th>\n",
       "      <th></th>\n",
       "      <th></th>\n",
       "      <th></th>\n",
       "    </tr>\n",
       "  </thead>\n",
       "  <tbody>\n",
       "    <tr>\n",
       "      <th>0</th>\n",
       "      <td>685</td>\n",
       "      <td>59</td>\n",
       "      <td>744</td>\n",
       "    </tr>\n",
       "    <tr>\n",
       "      <th>1</th>\n",
       "      <td>0</td>\n",
       "      <td>705</td>\n",
       "      <td>705</td>\n",
       "    </tr>\n",
       "    <tr>\n",
       "      <th>All</th>\n",
       "      <td>685</td>\n",
       "      <td>764</td>\n",
       "      <td>1449</td>\n",
       "    </tr>\n",
       "  </tbody>\n",
       "</table>\n",
       "</div>"
      ],
      "text/plain": [
       "Predicted    0    1   All\n",
       "True                     \n",
       "0          685   59   744\n",
       "1            0  705   705\n",
       "All        685  764  1449"
      ]
     },
     "execution_count": 107,
     "metadata": {},
     "output_type": "execute_result"
    }
   ],
   "source": [
    "pd.crosstab(y_test, y_test_predict, rownames=['True'], colnames=['Predicted'], margins=True)"
   ]
  },
  {
   "cell_type": "markdown",
   "metadata": {},
   "source": [
    "# SVC\n",
    "\n",
    "Тренируем классификатор с помощью машины опорных векторов, выводим ошибки на тестовой и обучающей выборках, \n",
    "а также матрицу несоответствий для определения ошибок первого и второго рода"
   ]
  },
  {
   "cell_type": "code",
   "execution_count": 108,
   "metadata": {},
   "outputs": [
    {
     "name": "stderr",
     "output_type": "stream",
     "text": [
      "D:\\Anaconda\\lib\\site-packages\\sklearn\\svm\\base.py:196: FutureWarning: The default value of gamma will change from 'auto' to 'scale' in version 0.22 to account better for unscaled features. Set gamma explicitly to 'auto' or 'scale' to avoid this warning.\n",
      "  \"avoid this warning.\", FutureWarning)\n"
     ]
    },
    {
     "name": "stdout",
     "output_type": "stream",
     "text": [
      "0.23142941698727434 0.22291235334713597\n"
     ]
    }
   ],
   "source": [
    "from sklearn.svm import SVC\n",
    "svc = SVC()\n",
    "svc.fit(X_train, y_train)\n",
    "y_test_predict = svc.predict(X_test)\n",
    "err_train = np.mean(y_train != svc.predict(X_train))\n",
    "err_test  = np.mean(y_test  != y_test_predict)\n",
    "\n",
    "print(err_train, err_test)"
   ]
  },
  {
   "cell_type": "code",
   "execution_count": 109,
   "metadata": {},
   "outputs": [
    {
     "name": "stdout",
     "output_type": "stream",
     "text": [
      "[[616 128]\n",
      " [195 510]]\n"
     ]
    }
   ],
   "source": [
    "from sklearn.metrics import confusion_matrix\n",
    "\n",
    "print(confusion_matrix(y_test, y_test_predict))"
   ]
  },
  {
   "cell_type": "markdown",
   "metadata": {},
   "source": [
    "### Подбор параметров"
   ]
  },
  {
   "cell_type": "code",
   "execution_count": 110,
   "metadata": {},
   "outputs": [
    {
     "name": "stderr",
     "output_type": "stream",
     "text": [
      "D:\\Anaconda\\lib\\site-packages\\sklearn\\model_selection\\_split.py:2053: FutureWarning: You should specify a value for 'cv' instead of relying on the default value. The default value will change from 3 to 5 in version 0.22.\n",
      "  warnings.warn(CV_WARNING, FutureWarning)\n"
     ]
    },
    {
     "name": "stdout",
     "output_type": "stream",
     "text": [
      "0.0 0.1\n"
     ]
    }
   ],
   "source": [
    "from sklearn.model_selection import GridSearchCV\n",
    "Cs = 10.**np.arange(-5, 5)\n",
    "gamma_array = 10.**np.arange(-5, 5)\n",
    "svc = SVC()\n",
    "grid = GridSearchCV(svc, param_grid = {'C': Cs, 'gamma': gamma_array})\n",
    "grid.fit(X_train, y_train)\n",
    "\n",
    "best_cv_err = 1 - grid.best_score_\n",
    "best_C = grid.best_estimator_.C\n",
    "print(best_cv_err, best_C)"
   ]
  },
  {
   "cell_type": "code",
   "execution_count": 111,
   "metadata": {},
   "outputs": [
    {
     "name": "stderr",
     "output_type": "stream",
     "text": [
      "D:\\Anaconda\\lib\\site-packages\\sklearn\\svm\\base.py:196: FutureWarning: The default value of gamma will change from 'auto' to 'scale' in version 0.22 to account better for unscaled features. Set gamma explicitly to 'auto' or 'scale' to avoid this warning.\n",
      "  \"avoid this warning.\", FutureWarning)\n"
     ]
    },
    {
     "name": "stdout",
     "output_type": "stream",
     "text": [
      "0.2701982835158331 0.25948930296756384\n"
     ]
    }
   ],
   "source": [
    "svc = SVC(C = best_C).fit(X_train, y_train)\n",
    "y_test_predict = svc.predict(X_test)\n",
    "err_train = np.mean(y_train != svc.predict(X_train))\n",
    "err_test  = np.mean(y_test  != y_test_predict)\n",
    "\n",
    "print(err_train, err_test)"
   ]
  },
  {
   "cell_type": "code",
   "execution_count": 112,
   "metadata": {},
   "outputs": [
    {
     "name": "stdout",
     "output_type": "stream",
     "text": [
      "[[597 147]\n",
      " [229 476]]\n"
     ]
    }
   ],
   "source": [
    "from sklearn.metrics import confusion_matrix\n",
    "\n",
    "print(confusion_matrix(y_test, y_test_predict))"
   ]
  },
  {
   "cell_type": "markdown",
   "metadata": {},
   "source": [
    "### Значимость признаков"
   ]
  },
  {
   "cell_type": "code",
   "execution_count": 113,
   "metadata": {},
   "outputs": [
    {
     "data": {
      "text/plain": [
       "1.0000000000000002"
      ]
     },
     "execution_count": 113,
     "metadata": {},
     "output_type": "execute_result"
    }
   ],
   "source": [
    "np.sum(rf.feature_importances_)"
   ]
  },
  {
   "cell_type": "code",
   "execution_count": 117,
   "metadata": {
    "scrolled": true
   },
   "outputs": [
    {
     "name": "stdout",
     "output_type": "stream",
     "text": [
      "Features ranking:\n",
      " 1. feature 'genergy' (0.184367)\n",
      " 2. feature 'gplus' (0.171899)\n",
      " 3. feature 'gdenergy' (0.130969)\n",
      " 4. feature 'gdpuls' (0.126962)\n",
      " 5. feature 'energy' (0.085172)\n",
      " 6. feature 'bumps' (0.076401)\n",
      " 7. feature 'maxenergy' (0.061230)\n",
      " 8. feature 'bumps2' (0.047134)\n",
      " 9. feature 'bumps3' (0.024303)\n",
      "10. feature 'shift' (0.021462)\n",
      "11. feature '%seismic' (0.017713)\n",
      "12. feature 'seismoacoustic_b' (0.013327)\n",
      "13. feature 'seismoacoustic_a' (0.013231)\n",
      "14. feature 'hazard_a' (0.008365)\n",
      "15. feature 'bumps4' (0.006845)\n",
      "16. feature 'hazard_b' (0.006568)\n",
      "17. feature 'seismoacoustic_c' (0.002526)\n",
      "18. feature 'hazard_c' (0.001245)\n",
      "19. feature 'bumps5' (0.000282)\n"
     ]
    }
   ],
   "source": [
    "N, d = X.shape\n",
    "importances = rf.feature_importances_\n",
    "indices = np.argsort(importances)[::-1]\n",
    "\n",
    "print(\"Features ranking:\")\n",
    "\n",
    "for f in range(d):\n",
    "    print(\"%2d. feature '%5s' (%f)\" % (f + 1, feature_names[indices[f]], importances[indices[f]]))   "
   ]
  },
  {
   "cell_type": "code",
   "execution_count": 118,
   "metadata": {},
   "outputs": [
    {
     "data": {
      "text/plain": [
       "Index(['gplus', 'genergy', 'gplus'], dtype='object')"
      ]
     },
     "execution_count": 118,
     "metadata": {},
     "output_type": "execute_result"
    }
   ],
   "source": [
    "feature_names[[1,0,1]]"
   ]
  },
  {
   "cell_type": "code",
   "execution_count": 119,
   "metadata": {},
   "outputs": [
    {
     "data": {
      "text/plain": [
       "(-1, 19)"
      ]
     },
     "execution_count": 119,
     "metadata": {},
     "output_type": "execute_result"
    },
    {
     "data": {
      "image/png": "[encoded data removed]",
      "text/plain": [
       "<Figure size 432x288 with 1 Axes>"
      ]
     },
     "metadata": {},
     "output_type": "display_data"
    }
   ],
   "source": [
    "d_first = 19\n",
    "plt.title(\"Features importance\")\n",
    "plt.bar(range(d_first), importances[indices[:d_first]], align = 'center', color = 'r')\n",
    "plt.xticks(range(d_first), feature_names[indices[:d_first]], rotation = 90)\n",
    "plt.xlim([-1, d_first])"
   ]
  },
  {
   "cell_type": "markdown",
   "metadata": {},
   "source": [
    "Значимость признаков сильно различается, поэтому возможно, что удаление наименее значимых признаков сильно повлияет в лучшую сторону на эффективность классификатора"
   ]
  },
  {
   "cell_type": "markdown",
   "metadata": {},
   "source": [
    "# Вывод"
   ]
  },
  {
   "cell_type": "markdown",
   "metadata": {},
   "source": [
    "Наименьшую ошибку на тестовой выборке показал метод K ближайших соседей.\n",
    "При этом все методы показали высокую ошибку 2-го рода. Наименьшую ошибку 2-го рода при относительно низкой ошибке на тестовой выборке показал метод GBT.\n",
    "Следует отметить, что на такую большую ошибку 2-го рода во многом влияет наличие некоторых мало значимых признаков, а также малое количество положительных записей (class = 1) в данных (170 из 2584)."
   ]
  },
  {
   "cell_type": "markdown",
   "metadata": {},
   "source": [
    "# Лабораторная работа №2"
   ]
  },
  {
   "cell_type": "markdown",
   "metadata": {},
   "source": [
    "# Нейронная сеть"
   ]
  },
  {
   "cell_type": "code",
   "execution_count": 120,
   "metadata": {},
   "outputs": [
    {
     "data": {
      "text/plain": [
       "MLPClassifier(activation='logistic', alpha=0.0001, batch_size='auto',\n",
       "       beta_1=0.9, beta_2=0.999, early_stopping=False, epsilon=1e-08,\n",
       "       hidden_layer_sizes=(10,), learning_rate='constant',\n",
       "       learning_rate_init=0.001, max_iter=200, momentum=0.9,\n",
       "       n_iter_no_change=10, nesterovs_momentum=True, power_t=0.5,\n",
       "       random_state=42, shuffle=True, solver='lbfgs', tol=0.0001,\n",
       "       validation_fraction=0.1, verbose=False, warm_start=False)"
      ]
     },
     "execution_count": 120,
     "metadata": {},
     "output_type": "execute_result"
    }
   ],
   "source": [
    "from sklearn.neural_network import MLPClassifier\n",
    "mlp_model = MLPClassifier(hidden_layer_sizes = (10,), solver = 'lbfgs', \n",
    "                          activation = 'logistic', random_state = 42)\n",
    "mlp_model.fit(X_train, y_train)"
   ]
  },
  {
   "cell_type": "code",
   "execution_count": 121,
   "metadata": {},
   "outputs": [
    {
     "data": {
      "text/plain": [
       "3"
      ]
     },
     "execution_count": 121,
     "metadata": {},
     "output_type": "execute_result"
    }
   ],
   "source": [
    "mlp_model.n_layers_"
   ]
  },
  {
   "cell_type": "markdown",
   "metadata": {},
   "source": [
    "Ошибки на обучающей и тестовой выборках:"
   ]
  },
  {
   "cell_type": "code",
   "execution_count": 122,
   "metadata": {},
   "outputs": [
    {
     "name": "stdout",
     "output_type": "stream",
     "text": [
      "0.12755253033441846 0.17322291235334714\n"
     ]
    }
   ],
   "source": [
    "y_train_pred = mlp_model.predict(X_train)\n",
    "y_test_pred = mlp_model.predict(X_test)\n",
    "print(np.mean(y_train != y_train_pred), np.mean(y_test != y_test_pred))"
   ]
  },
  {
   "cell_type": "markdown",
   "metadata": {},
   "source": [
    "### Подбор гиперпараметров"
   ]
  },
  {
   "cell_type": "markdown",
   "metadata": {},
   "source": [
    "Подберем оптимальное значение параметра регуляризации alpha"
   ]
  },
  {
   "cell_type": "code",
   "execution_count": 123,
   "metadata": {},
   "outputs": [],
   "source": [
    "alpha_arr = np.logspace(-3, 2, 21)\n",
    "test_err = []\n",
    "train_err = []\n",
    "for alpha in alpha_arr:\n",
    "    mlp_model = MLPClassifier(alpha = alpha, hidden_layer_sizes = (10,), \n",
    "                              solver = 'lbfgs', activation = 'logistic', random_state = 42)\n",
    "    mlp_model.fit(X_train, y_train)\n",
    "\n",
    "    y_train_pred = mlp_model.predict(X_train)\n",
    "    y_test_pred = mlp_model.predict(X_test)\n",
    "    train_err.append(np.mean(y_train != y_train_pred))\n",
    "    test_err.append(np.mean(y_test != y_test_pred))"
   ]
  },
  {
   "cell_type": "code",
   "execution_count": 124,
   "metadata": {},
   "outputs": [
    {
     "data": {
      "image/png": "[encoded data removed]",
      "text/plain": [
       "<Figure size 432x288 with 1 Axes>"
      ]
     },
     "metadata": {},
     "output_type": "display_data"
    }
   ],
   "source": [
    "plt.semilogx(alpha_arr, train_err, 'b-o', label = 'train')\n",
    "plt.semilogx(alpha_arr, test_err, 'r-o', label = 'test')\n",
    "plt.xlim([np.max(alpha_arr), np.min(alpha_arr)])\n",
    "plt.title('Error vs. alpha')\n",
    "plt.xlabel('alpha')\n",
    "plt.ylabel('error')\n",
    "plt.legend()\n",
    "pass"
   ]
  },
  {
   "cell_type": "markdown",
   "metadata": {},
   "source": [
    "Минимальное значение ошибки:"
   ]
  },
  {
   "cell_type": "code",
   "execution_count": 125,
   "metadata": {},
   "outputs": [
    {
     "name": "stdout",
     "output_type": "stream",
     "text": [
      "0.127848475880438 0.15942028985507245\n"
     ]
    }
   ],
   "source": [
    "min_train_err = np.min(train_err)\n",
    "min_test_err = np.min(test_err)\n",
    "print(min_train_err, min_test_err)"
   ]
  },
  {
   "cell_type": "markdown",
   "metadata": {},
   "source": [
    "Оптимальное значение alpha:"
   ]
  },
  {
   "cell_type": "code",
   "execution_count": 126,
   "metadata": {},
   "outputs": [
    {
     "name": "stdout",
     "output_type": "stream",
     "text": [
      "0.5623413251903491\n"
     ]
    }
   ],
   "source": [
    "alpha_opt = alpha_arr[test_err == min_test_err]\n",
    "alpha_opt = alpha_opt[0]\n",
    "print(alpha_opt)"
   ]
  },
  {
   "cell_type": "markdown",
   "metadata": {},
   "source": [
    "Подберем оптимальное количество нейронов"
   ]
  },
  {
   "cell_type": "code",
   "execution_count": 127,
   "metadata": {},
   "outputs": [],
   "source": [
    "neurons_arr = np.arange(4,50,2)\n",
    "test_err = []\n",
    "train_err = []\n",
    "for neuron_size in neurons_arr:\n",
    "    hidden_layer_sizes = (neuron_size,)\n",
    "    mlp_model = MLPClassifier(alpha = alpha_opt, hidden_layer_sizes = hidden_layer_sizes, \n",
    "                              solver = 'lbfgs', activation = 'logistic', random_state = 42)\n",
    "    mlp_model.fit(X_train, y_train)\n",
    "\n",
    "    y_train_pred = mlp_model.predict(X_train)\n",
    "    y_test_pred = mlp_model.predict(X_test)\n",
    "    train_err.append(np.mean(y_train != y_train_pred))\n",
    "    test_err.append(np.mean(y_test != y_test_pred))"
   ]
  },
  {
   "cell_type": "code",
   "execution_count": 128,
   "metadata": {},
   "outputs": [
    {
     "data": {
      "image/png": "[encoded data removed]",
      "text/plain": [
       "<Figure size 432x288 with 1 Axes>"
      ]
     },
     "metadata": {},
     "output_type": "display_data"
    }
   ],
   "source": [
    "plt.semilogx(neurons_arr, train_err, 'b-o', label = 'train')\n",
    "plt.semilogx(neurons_arr, test_err, 'r-o', label = 'test')\n",
    "plt.xlim([np.max(neurons_arr), np.min(neurons_arr)])\n",
    "plt.title('Error vs. Neurons size')\n",
    "plt.xlabel('neurons size')\n",
    "plt.ylabel('error')\n",
    "plt.legend()\n",
    "pass"
   ]
  },
  {
   "cell_type": "markdown",
   "metadata": {},
   "source": [
    "Минимальное значение ошибки:"
   ]
  },
  {
   "cell_type": "code",
   "execution_count": 129,
   "metadata": {},
   "outputs": [
    {
     "name": "stdout",
     "output_type": "stream",
     "text": [
      "0.08464042616158626 0.1069703243616287\n"
     ]
    }
   ],
   "source": [
    "min_train_err = np.min(train_err)\n",
    "min_test_err = np.min(test_err)\n",
    "print(min_train_err, min_test_err)"
   ]
  },
  {
   "cell_type": "markdown",
   "metadata": {},
   "source": [
    "Оптимальное количество нейронов"
   ]
  },
  {
   "cell_type": "code",
   "execution_count": 130,
   "metadata": {},
   "outputs": [
    {
     "name": "stdout",
     "output_type": "stream",
     "text": [
      "40\n"
     ]
    }
   ],
   "source": [
    "index = test_err.index(min_test_err)\n",
    "neuron_size_opt = neurons_arr[index]\n",
    "print(neuron_size_opt)"
   ]
  },
  {
   "cell_type": "markdown",
   "metadata": {},
   "source": [
    "### Классификатор при найденных оптимальных значениях гиперпараметров:"
   ]
  },
  {
   "cell_type": "markdown",
   "metadata": {},
   "source": [
    "2 скрытых слоя:"
   ]
  },
  {
   "cell_type": "code",
   "execution_count": 131,
   "metadata": {},
   "outputs": [
    {
     "name": "stdout",
     "output_type": "stream",
     "text": [
      "0.11482687185557858\n",
      "0.13250517598343686\n"
     ]
    }
   ],
   "source": [
    "mlp_model = MLPClassifier(alpha = alpha_opt, hidden_layer_sizes = (neuron_size_opt,neuron_size_opt,),\n",
    "                          solver = 'lbfgs', activation = 'logistic', random_state = 42)\n",
    "mlp_model.fit(X_train, y_train)\n",
    "\n",
    "y_train_pred = mlp_model.predict(X_train)\n",
    "y_test_pred = mlp_model.predict(X_test)\n",
    "print(np.mean(y_train != y_train_pred))\n",
    "print(np.mean(y_test != y_test_pred))"
   ]
  },
  {
   "cell_type": "code",
   "execution_count": 132,
   "metadata": {},
   "outputs": [
    {
     "data": {
      "text/html": [
       "<div>\n",
       "<style scoped>\n",
       "    .dataframe tbody tr th:only-of-type {\n",
       "        vertical-align: middle;\n",
       "    }\n",
       "\n",
       "    .dataframe tbody tr th {\n",
       "        vertical-align: top;\n",
       "    }\n",
       "\n",
       "    .dataframe thead th {\n",
       "        text-align: right;\n",
       "    }\n",
       "</style>\n",
       "<table border=\"1\" class=\"dataframe\">\n",
       "  <thead>\n",
       "    <tr style=\"text-align: right;\">\n",
       "      <th>Predicted</th>\n",
       "      <th>0</th>\n",
       "      <th>1</th>\n",
       "      <th>All</th>\n",
       "    </tr>\n",
       "    <tr>\n",
       "      <th>True</th>\n",
       "      <th></th>\n",
       "      <th></th>\n",
       "      <th></th>\n",
       "    </tr>\n",
       "  </thead>\n",
       "  <tbody>\n",
       "    <tr>\n",
       "      <th>0</th>\n",
       "      <td>643</td>\n",
       "      <td>101</td>\n",
       "      <td>744</td>\n",
       "    </tr>\n",
       "    <tr>\n",
       "      <th>1</th>\n",
       "      <td>91</td>\n",
       "      <td>614</td>\n",
       "      <td>705</td>\n",
       "    </tr>\n",
       "    <tr>\n",
       "      <th>All</th>\n",
       "      <td>734</td>\n",
       "      <td>715</td>\n",
       "      <td>1449</td>\n",
       "    </tr>\n",
       "  </tbody>\n",
       "</table>\n",
       "</div>"
      ],
      "text/plain": [
       "Predicted    0    1   All\n",
       "True                     \n",
       "0          643  101   744\n",
       "1           91  614   705\n",
       "All        734  715  1449"
      ]
     },
     "execution_count": 132,
     "metadata": {},
     "output_type": "execute_result"
    }
   ],
   "source": [
    "pd.crosstab(y_test, y_test_pred, rownames=['True'], colnames=['Predicted'], margins=True)"
   ]
  },
  {
   "cell_type": "markdown",
   "metadata": {},
   "source": [
    "1 скрытый слой:"
   ]
  },
  {
   "cell_type": "code",
   "execution_count": 133,
   "metadata": {},
   "outputs": [
    {
     "name": "stdout",
     "output_type": "stream",
     "text": [
      "0.0949985202722699\n",
      "0.1069703243616287\n"
     ]
    }
   ],
   "source": [
    "mlp_model = MLPClassifier(alpha = alpha_opt, hidden_layer_sizes = (neuron_size_opt,),\n",
    "                          solver = 'lbfgs', activation = 'logistic', random_state = 42)\n",
    "mlp_model.fit(X_train, y_train)\n",
    "\n",
    "y_train_pred = mlp_model.predict(X_train)\n",
    "y_test_pred = mlp_model.predict(X_test)\n",
    "print(np.mean(y_train != y_train_pred))\n",
    "print(np.mean(y_test != y_test_pred))"
   ]
  },
  {
   "cell_type": "markdown",
   "metadata": {},
   "source": [
    "Матрица рассогласования:"
   ]
  },
  {
   "cell_type": "code",
   "execution_count": 134,
   "metadata": {},
   "outputs": [
    {
     "data": {
      "text/html": [
       "<div>\n",
       "<style scoped>\n",
       "    .dataframe tbody tr th:only-of-type {\n",
       "        vertical-align: middle;\n",
       "    }\n",
       "\n",
       "    .dataframe tbody tr th {\n",
       "        vertical-align: top;\n",
       "    }\n",
       "\n",
       "    .dataframe thead th {\n",
       "        text-align: right;\n",
       "    }\n",
       "</style>\n",
       "<table border=\"1\" class=\"dataframe\">\n",
       "  <thead>\n",
       "    <tr style=\"text-align: right;\">\n",
       "      <th>Predicted</th>\n",
       "      <th>0</th>\n",
       "      <th>1</th>\n",
       "      <th>All</th>\n",
       "    </tr>\n",
       "    <tr>\n",
       "      <th>True</th>\n",
       "      <th></th>\n",
       "      <th></th>\n",
       "      <th></th>\n",
       "    </tr>\n",
       "  </thead>\n",
       "  <tbody>\n",
       "    <tr>\n",
       "      <th>0</th>\n",
       "      <td>659</td>\n",
       "      <td>85</td>\n",
       "      <td>744</td>\n",
       "    </tr>\n",
       "    <tr>\n",
       "      <th>1</th>\n",
       "      <td>70</td>\n",
       "      <td>635</td>\n",
       "      <td>705</td>\n",
       "    </tr>\n",
       "    <tr>\n",
       "      <th>All</th>\n",
       "      <td>729</td>\n",
       "      <td>720</td>\n",
       "      <td>1449</td>\n",
       "    </tr>\n",
       "  </tbody>\n",
       "</table>\n",
       "</div>"
      ],
      "text/plain": [
       "Predicted    0    1   All\n",
       "True                     \n",
       "0          659   85   744\n",
       "1           70  635   705\n",
       "All        729  720  1449"
      ]
     },
     "execution_count": 134,
     "metadata": {},
     "output_type": "execute_result"
    }
   ],
   "source": [
    "pd.crosstab(y_test, y_test_pred, rownames=['True'], colnames=['Predicted'], margins=True)"
   ]
  },
  {
   "cell_type": "code",
   "execution_count": 135,
   "metadata": {},
   "outputs": [
    {
     "data": {
      "image/png": "[encoded data removed]",
      "text/plain": [
       "<Figure size 432x288 with 2 Axes>"
      ]
     },
     "metadata": {},
     "output_type": "display_data"
    }
   ],
   "source": [
    "from sklearn.metrics import confusion_matrix\n",
    "M = confusion_matrix(y_test_pred, y_test)\n",
    "M = np.sqrt(M)\n",
    "plt.imshow(M, interpolation = 'nearest')\n",
    "plt.set_cmap('binary')\n",
    "plt.xticks(range(2))\n",
    "plt.yticks(range(2))\n",
    "plt.xlabel(\"true label\")\n",
    "plt.ylabel(\"predicted label\")\n",
    "plt.colorbar()\n",
    "pass"
   ]
  },
  {
   "cell_type": "markdown",
   "metadata": {},
   "source": [
    "### Другие метрики качества:"
   ]
  },
  {
   "cell_type": "code",
   "execution_count": 136,
   "metadata": {},
   "outputs": [
    {
     "name": "stdout",
     "output_type": "stream",
     "text": [
      "              precision    recall  f1-score   support\n",
      "\n",
      "           0       0.90      0.89      0.89       744\n",
      "           1       0.88      0.90      0.89       705\n",
      "\n",
      "   micro avg       0.89      0.89      0.89      1449\n",
      "   macro avg       0.89      0.89      0.89      1449\n",
      "weighted avg       0.89      0.89      0.89      1449\n",
      "\n"
     ]
    }
   ],
   "source": [
    "from sklearn.metrics import classification_report\n",
    "print(classification_report(y_test, y_test_pred))"
   ]
  },
  {
   "cell_type": "markdown",
   "metadata": {},
   "source": [
    "# Вывод"
   ]
  },
  {
   "cell_type": "markdown",
   "metadata": {},
   "source": [
    "Наименьшую ошибку на тестовой выборке показала нейронная сеть с одним скрытым слоем. Переобучение/недообучение отсутствует. При этом вследствии несбалансированности датасета нейронная сеть показала высокую ошибку 2-го рода. Тем не менее рассматриваемые показатели для нейросети оказались лучше, чем для классификаторов, использовавшихся ранее.\n",
    "\n",
    "Для борьбы с высокой несбалансированностью данных необходимо следующее:\n",
    "\n",
    "Применить Undersampling, Oversampling или алгоритм Smote и т.п.\n",
    "Поскольку наша цель - прогнозировать опасную сейсмическую активность, очень важно выявить большое количество TP и свести к минимуму FN. Следовательно, нашей самой важной метрикой успеха является recall. Таким образом, при подборе гиперпараметров необходимо оптимизировать recall, а именно оптимизировать его применительно к области под ROC-кривой, тем самым максимизируя количество TP при сохранении относительно низкого количества FP."
   ]
  },
  {
   "cell_type": "markdown",
   "metadata": {},
   "source": [
    "# Лабораторная работа №3"
   ]
  },
  {
   "cell_type": "markdown",
   "metadata": {},
   "source": [
    "# Random Forest\n",
    "\n",
    "Тренируем классификатор с помощью алогоритма случайный лес, выводим ошибки на тестовой и обучающей выборках, \n",
    "а также матрицу несоответствий для определения ошибок первого и второго рода"
   ]
  },
  {
   "cell_type": "code",
   "execution_count": 22,
   "metadata": {},
   "outputs": [
    {
     "name": "stdout",
     "output_type": "stream",
     "text": [
      "0.0 0.017943409247757072\n"
     ]
    }
   ],
   "source": [
    "from sklearn import ensemble\n",
    "rf = ensemble.RandomForestClassifier(n_estimators = 100, random_state = 42)\n",
    "rf.fit(X_train, y_train)\n",
    "y_test_predict = rf.predict(X_test)\n",
    "err_train = np.mean(y_train != rf.predict(X_train))\n",
    "err_test  = np.mean(y_test  != y_test_predict)\n",
    "\n",
    "print(err_train, err_test)"
   ]
  },
  {
   "cell_type": "markdown",
   "metadata": {},
   "source": [
    "Подберем оптимальное значение параметра n_estimators (the number of trees in the forest) и построим графики зависимости ошибки (на тестовой и обучающейся выборках, а также oob-ошибку) от количества используемых деревьев"
   ]
  },
  {
   "cell_type": "code",
   "execution_count": 58,
   "metadata": {},
   "outputs": [
    {
     "name": "stderr",
     "output_type": "stream",
     "text": [
      "D:\\Anaconda\\lib\\site-packages\\sklearn\\ensemble\\forest.py:458: UserWarning: Some inputs do not have OOB scores. This probably means too few trees were used to compute any reliable oob estimates.\n",
      "  warn(\"Some inputs do not have OOB scores. \"\n",
      "D:\\Anaconda\\lib\\site-packages\\sklearn\\ensemble\\forest.py:463: RuntimeWarning: invalid value encountered in true_divide\n",
      "  predictions[k].sum(axis=1)[:, np.newaxis])\n"
     ]
    }
   ],
   "source": [
    "n_estimators_arr = np.arange(10,600,10) \n",
    "test_err = []\n",
    "train_err = []\n",
    "oob_err = []\n",
    "for n_estimators in n_estimators_arr:\n",
    "    rf = ensemble.RandomForestClassifier(n_estimators = n_estimators, oob_score=True, random_state = 42)\n",
    "    rf.fit(X_train, y_train)\n",
    "    \n",
    "    y_train_pred = rf.predict(X_train)\n",
    "    y_test_pred = rf.predict(X_test)\n",
    "    train_err.append(np.mean(y_train != y_train_pred))\n",
    "    test_err.append(np.mean(y_test != y_test_pred))\n",
    "    oob_err.append(1 - rf.oob_score_) "
   ]
  },
  {
   "cell_type": "code",
   "execution_count": 59,
   "metadata": {},
   "outputs": [
    {
     "data": {
      "image/png": "[encoded data removed]",
      "text/plain": [
       "<Figure size 432x288 with 1 Axes>"
      ]
     },
     "metadata": {},
     "output_type": "display_data"
    }
   ],
   "source": [
    "plt.semilogx(n_estimators_arr, train_err, 'b-o', label = 'train')\n",
    "plt.semilogx(n_estimators_arr, test_err, 'r-o', label = 'test')\n",
    "plt.semilogx(n_estimators_arr, oob_err, 'g-o', label = 'oob')\n",
    "plt.xlim([np.max(n_estimators_arr), np.min(n_estimators_arr)])\n",
    "plt.title('Error vs. Number of trees')\n",
    "plt.xlabel('number of trees')\n",
    "plt.ylabel('error')\n",
    "plt.legend()\n",
    "pass"
   ]
  },
  {
   "cell_type": "markdown",
   "metadata": {},
   "source": [
    "Минимальное значение ошибки:"
   ]
  },
  {
   "cell_type": "code",
   "execution_count": 60,
   "metadata": {},
   "outputs": [
    {
     "name": "stdout",
     "output_type": "stream",
     "text": [
      "0.0 0.01518288474810214\n"
     ]
    }
   ],
   "source": [
    "min_train_err = np.min(train_err)\n",
    "min_test_err = np.min(test_err)\n",
    "print(min_train_err, min_test_err)"
   ]
  },
  {
   "cell_type": "markdown",
   "metadata": {},
   "source": [
    "Оптимальное число деревьев"
   ]
  },
  {
   "cell_type": "code",
   "execution_count": 61,
   "metadata": {},
   "outputs": [
    {
     "name": "stdout",
     "output_type": "stream",
     "text": [
      "30\n"
     ]
    }
   ],
   "source": [
    "index = test_err.index(min_test_err)\n",
    "n_estimators_opt = n_estimators_arr[index]\n",
    "print(n_estimators_opt)"
   ]
  },
  {
   "cell_type": "markdown",
   "metadata": {},
   "source": [
    "Классификатор при найденном оптимальном значении:"
   ]
  },
  {
   "cell_type": "code",
   "execution_count": 35,
   "metadata": {},
   "outputs": [
    {
     "name": "stdout",
     "output_type": "stream",
     "text": [
      "0.0\n",
      "0.01518288474810214\n"
     ]
    }
   ],
   "source": [
    "rf = ensemble.RandomForestClassifier(n_estimators = n_estimators_opt, random_state = 42)\n",
    "rf.fit(X_train, y_train)\n",
    "y_train_pred = rf.predict(X_train)\n",
    "y_test_pred = rf.predict(X_test)\n",
    "print(np.mean(y_train != y_train_pred))\n",
    "print(np.mean(y_test != y_test_pred))"
   ]
  },
  {
   "cell_type": "code",
   "execution_count": 36,
   "metadata": {
    "scrolled": true
   },
   "outputs": [
    {
     "data": {
      "text/html": [
       "<div>\n",
       "<style scoped>\n",
       "    .dataframe tbody tr th:only-of-type {\n",
       "        vertical-align: middle;\n",
       "    }\n",
       "\n",
       "    .dataframe tbody tr th {\n",
       "        vertical-align: top;\n",
       "    }\n",
       "\n",
       "    .dataframe thead th {\n",
       "        text-align: right;\n",
       "    }\n",
       "</style>\n",
       "<table border=\"1\" class=\"dataframe\">\n",
       "  <thead>\n",
       "    <tr style=\"text-align: right;\">\n",
       "      <th>Predicted</th>\n",
       "      <th>0</th>\n",
       "      <th>1</th>\n",
       "      <th>All</th>\n",
       "    </tr>\n",
       "    <tr>\n",
       "      <th>True</th>\n",
       "      <th></th>\n",
       "      <th></th>\n",
       "      <th></th>\n",
       "    </tr>\n",
       "  </thead>\n",
       "  <tbody>\n",
       "    <tr>\n",
       "      <th>0</th>\n",
       "      <td>722</td>\n",
       "      <td>22</td>\n",
       "      <td>744</td>\n",
       "    </tr>\n",
       "    <tr>\n",
       "      <th>1</th>\n",
       "      <td>0</td>\n",
       "      <td>705</td>\n",
       "      <td>705</td>\n",
       "    </tr>\n",
       "    <tr>\n",
       "      <th>All</th>\n",
       "      <td>722</td>\n",
       "      <td>727</td>\n",
       "      <td>1449</td>\n",
       "    </tr>\n",
       "  </tbody>\n",
       "</table>\n",
       "</div>"
      ],
      "text/plain": [
       "Predicted    0    1   All\n",
       "True                     \n",
       "0          722   22   744\n",
       "1            0  705   705\n",
       "All        722  727  1449"
      ]
     },
     "execution_count": 36,
     "metadata": {},
     "output_type": "execute_result"
    }
   ],
   "source": [
    "pd.crosstab(y_test, y_test_pred, rownames=['True'], colnames=['Predicted'], margins=True)"
   ]
  },
  {
   "cell_type": "markdown",
   "metadata": {},
   "source": [
    "# Extremely Randomized Trees\n",
    "\n",
    "Тренируем классификатор с помощью метода сверхслучайных деревьев, выводим ошибки на тестовой и обучающей выборках, \n",
    "а также матрицу несоответствий для определения ошибок первого и второго рода"
   ]
  },
  {
   "cell_type": "code",
   "execution_count": 88,
   "metadata": {},
   "outputs": [
    {
     "name": "stdout",
     "output_type": "stream",
     "text": [
      "0.0 0.022084195997239476\n"
     ]
    }
   ],
   "source": [
    "ert = ensemble.ExtraTreesClassifier(n_estimators = 100, bootstrap=True, random_state = 42).fit(X_train, y_train)\n",
    "y_test_predict = ert.predict(X_test)\n",
    "err_train = np.mean(y_train != ert.predict(X_train))\n",
    "err_test  = np.mean(y_test  != y_test_predict)\n",
    "\n",
    "print(err_train, err_test)"
   ]
  },
  {
   "cell_type": "code",
   "execution_count": 89,
   "metadata": {},
   "outputs": [
    {
     "name": "stdout",
     "output_type": "stream",
     "text": [
      "[[712  32]\n",
      " [  0 705]]\n"
     ]
    }
   ],
   "source": [
    "from sklearn.metrics import confusion_matrix\n",
    "\n",
    "print(confusion_matrix(y_test, y_test_predict))"
   ]
  },
  {
   "cell_type": "markdown",
   "metadata": {},
   "source": [
    "Подберем оптимальное значение параметра n_estimators (the number of trees in the forest) и построим графики зависимости ошибки (на тестовой и обучающейся выборках, а также oob-ошибку) от количества используемых деревьев"
   ]
  },
  {
   "cell_type": "code",
   "execution_count": 83,
   "metadata": {},
   "outputs": [
    {
     "name": "stderr",
     "output_type": "stream",
     "text": [
      "D:\\Anaconda\\lib\\site-packages\\sklearn\\ensemble\\forest.py:458: UserWarning: Some inputs do not have OOB scores. This probably means too few trees were used to compute any reliable oob estimates.\n",
      "  warn(\"Some inputs do not have OOB scores. \"\n",
      "D:\\Anaconda\\lib\\site-packages\\sklearn\\ensemble\\forest.py:463: RuntimeWarning: invalid value encountered in true_divide\n",
      "  predictions[k].sum(axis=1)[:, np.newaxis])\n",
      "D:\\Anaconda\\lib\\site-packages\\sklearn\\ensemble\\forest.py:458: UserWarning: Some inputs do not have OOB scores. This probably means too few trees were used to compute any reliable oob estimates.\n",
      "  warn(\"Some inputs do not have OOB scores. \"\n",
      "D:\\Anaconda\\lib\\site-packages\\sklearn\\ensemble\\forest.py:463: RuntimeWarning: invalid value encountered in true_divide\n",
      "  predictions[k].sum(axis=1)[:, np.newaxis])\n",
      "D:\\Anaconda\\lib\\site-packages\\sklearn\\ensemble\\forest.py:458: UserWarning: Some inputs do not have OOB scores. This probably means too few trees were used to compute any reliable oob estimates.\n",
      "  warn(\"Some inputs do not have OOB scores. \"\n",
      "D:\\Anaconda\\lib\\site-packages\\sklearn\\ensemble\\forest.py:463: RuntimeWarning: invalid value encountered in true_divide\n",
      "  predictions[k].sum(axis=1)[:, np.newaxis])\n"
     ]
    },
    {
     "data": {
      "image/png": "[encoded data removed]",
      "text/plain": [
       "<Figure size 432x288 with 1 Axes>"
      ]
     },
     "metadata": {},
     "output_type": "display_data"
    }
   ],
   "source": [
    "n_estimators_arr = np.arange(5,400,5) \n",
    "test_err = []\n",
    "train_err = []\n",
    "oob_err = []\n",
    "for n_estimators in n_estimators_arr:\n",
    "    ert = ensemble.ExtraTreesClassifier(n_estimators = n_estimators, oob_score=True, bootstrap=True, random_state = 42)\n",
    "    ert.fit(X_train, y_train)\n",
    "    y_train_pred = ert.predict(X_train)\n",
    "    y_test_pred = ert.predict(X_test)\n",
    "    \n",
    "    train_err.append(np.mean(y_train != y_train_pred))\n",
    "    test_err.append(np.mean(y_test != y_test_pred))\n",
    "    oob_err.append(1 - ert.oob_score_)\n",
    "\n",
    "plt.semilogx(n_estimators_arr, train_err, 'b-o', label = 'train')\n",
    "plt.semilogx(n_estimators_arr, test_err, 'r-o', label = 'test')\n",
    "plt.semilogx(n_estimators_arr, oob_err, 'g-o', label = 'oob')\n",
    "plt.xlim([np.max(n_estimators_arr), np.min(n_estimators_arr)])\n",
    "plt.title('Error vs. Number of trees')\n",
    "plt.xlabel('number of trees')\n",
    "plt.ylabel('error')\n",
    "plt.legend()\n",
    "pass"
   ]
  },
  {
   "cell_type": "markdown",
   "metadata": {},
   "source": [
    "Минимальное значение ошибки:"
   ]
  },
  {
   "cell_type": "code",
   "execution_count": 84,
   "metadata": {},
   "outputs": [
    {
     "name": "stdout",
     "output_type": "stream",
     "text": [
      "0.0 0.01725327812284334\n"
     ]
    }
   ],
   "source": [
    "min_train_err = np.min(train_err)\n",
    "min_test_err = np.min(test_err)\n",
    "print(min_train_err, min_test_err)"
   ]
  },
  {
   "cell_type": "markdown",
   "metadata": {},
   "source": [
    "Оптимальное число деревьев"
   ]
  },
  {
   "cell_type": "code",
   "execution_count": 85,
   "metadata": {},
   "outputs": [
    {
     "name": "stdout",
     "output_type": "stream",
     "text": [
      "10\n"
     ]
    }
   ],
   "source": [
    "index = test_err.index(min_test_err)\n",
    "n_estimators_opt = n_estimators_arr[index]\n",
    "print(n_estimators_opt)"
   ]
  },
  {
   "cell_type": "markdown",
   "metadata": {},
   "source": [
    "Классификатор при найденном оптимальном значении:"
   ]
  },
  {
   "cell_type": "code",
   "execution_count": 86,
   "metadata": {},
   "outputs": [
    {
     "name": "stdout",
     "output_type": "stream",
     "text": [
      "0.0002959455460195324\n",
      "0.01725327812284334\n"
     ]
    }
   ],
   "source": [
    "ert = ensemble.ExtraTreesClassifier(n_estimators = n_estimators_opt, bootstrap=True, random_state = 42)\n",
    "ert.fit(X_train, y_train)\n",
    "y_train_pred = ert.predict(X_train)\n",
    "y_test_pred = ert.predict(X_test)\n",
    "print(np.mean(y_train != y_train_pred))\n",
    "print(np.mean(y_test != y_test_pred))"
   ]
  },
  {
   "cell_type": "code",
   "execution_count": 87,
   "metadata": {
    "scrolled": true
   },
   "outputs": [
    {
     "data": {
      "text/html": [
       "<div>\n",
       "<style scoped>\n",
       "    .dataframe tbody tr th:only-of-type {\n",
       "        vertical-align: middle;\n",
       "    }\n",
       "\n",
       "    .dataframe tbody tr th {\n",
       "        vertical-align: top;\n",
       "    }\n",
       "\n",
       "    .dataframe thead th {\n",
       "        text-align: right;\n",
       "    }\n",
       "</style>\n",
       "<table border=\"1\" class=\"dataframe\">\n",
       "  <thead>\n",
       "    <tr style=\"text-align: right;\">\n",
       "      <th>Predicted</th>\n",
       "      <th>0</th>\n",
       "      <th>1</th>\n",
       "      <th>All</th>\n",
       "    </tr>\n",
       "    <tr>\n",
       "      <th>True</th>\n",
       "      <th></th>\n",
       "      <th></th>\n",
       "      <th></th>\n",
       "    </tr>\n",
       "  </thead>\n",
       "  <tbody>\n",
       "    <tr>\n",
       "      <th>0</th>\n",
       "      <td>719</td>\n",
       "      <td>25</td>\n",
       "      <td>744</td>\n",
       "    </tr>\n",
       "    <tr>\n",
       "      <th>1</th>\n",
       "      <td>0</td>\n",
       "      <td>705</td>\n",
       "      <td>705</td>\n",
       "    </tr>\n",
       "    <tr>\n",
       "      <th>All</th>\n",
       "      <td>719</td>\n",
       "      <td>730</td>\n",
       "      <td>1449</td>\n",
       "    </tr>\n",
       "  </tbody>\n",
       "</table>\n",
       "</div>"
      ],
      "text/plain": [
       "Predicted    0    1   All\n",
       "True                     \n",
       "0          719   25   744\n",
       "1            0  705   705\n",
       "All        719  730  1449"
      ]
     },
     "execution_count": 87,
     "metadata": {},
     "output_type": "execute_result"
    }
   ],
   "source": [
    "pd.crosstab(y_test, y_test_pred, rownames=['True'], colnames=['Predicted'], margins=True)"
   ]
  },
  {
   "cell_type": "markdown",
   "metadata": {},
   "source": [
    "# AdaBoost\n",
    "\n",
    "Тренируем классификатор с помощью алгоритма Adaptive Boosting, выводим ошибки на тестовой и обучающей выборках, \n",
    "а также матрицу несоответствий для определения ошибок первого и второго рода"
   ]
  },
  {
   "cell_type": "code",
   "execution_count": 24,
   "metadata": {},
   "outputs": [
    {
     "name": "stdout",
     "output_type": "stream",
     "text": [
      "0.07369044095886357 0.09316770186335403\n"
     ]
    }
   ],
   "source": [
    "ada = ensemble.AdaBoostClassifier(n_estimators = 1000, random_state = 42)\n",
    "ada.fit(X_train, y_train)\n",
    "y_test_predict = ada.predict(X_test)\n",
    "err_train = np.mean(y_train != ada.predict(X_train))\n",
    "err_test = np.mean(y_test != y_test_predict)\n",
    "\n",
    "print(err_train, err_test)"
   ]
  },
  {
   "cell_type": "code",
   "execution_count": 25,
   "metadata": {},
   "outputs": [
    {
     "name": "stdout",
     "output_type": "stream",
     "text": [
      "[[635 109]\n",
      " [ 26 679]]\n"
     ]
    }
   ],
   "source": [
    "from sklearn.metrics import confusion_matrix\n",
    "\n",
    "print(confusion_matrix(y_test, y_test_predict))"
   ]
  },
  {
   "cell_type": "markdown",
   "metadata": {},
   "source": [
    "Подберем оптимальное значение параметра n_estimators (the number of trees in the forest) и построим графики зависимости ошибки (на тестовой и обучающейся выборках) от количества используемых деревьев"
   ]
  },
  {
   "cell_type": "code",
   "execution_count": 41,
   "metadata": {},
   "outputs": [
    {
     "data": {
      "image/png": "[encoded data removed]",
      "text/plain": [
       "<Figure size 432x288 with 1 Axes>"
      ]
     },
     "metadata": {},
     "output_type": "display_data"
    }
   ],
   "source": [
    "n_estimators_arr = np.arange(1000,15000,500) \n",
    "test_err = []\n",
    "train_err = []\n",
    "for n_estimators in n_estimators_arr:\n",
    "    ada = ensemble.AdaBoostClassifier(n_estimators = n_estimators, random_state = 42)\n",
    "    ada.fit(X_train, y_train)\n",
    "    y_train_pred = ada.predict(X_train)\n",
    "    y_test_pred = ada.predict(X_test)\n",
    "    train_err.append(np.mean(y_train != y_train_pred))\n",
    "    test_err.append(np.mean(y_test != y_test_pred))\n",
    "\n",
    "plt.semilogx(n_estimators_arr, train_err, 'b-o', label = 'train')\n",
    "plt.semilogx(n_estimators_arr, test_err, 'r-o', label = 'test')\n",
    "plt.xlim([np.max(n_estimators_arr), np.min(n_estimators_arr)])\n",
    "plt.title('Error vs. Number of trees')\n",
    "plt.xlabel('number of trees')\n",
    "plt.ylabel('error')\n",
    "plt.legend()\n",
    "pass"
   ]
  },
  {
   "cell_type": "markdown",
   "metadata": {},
   "source": [
    "Минимальное значение ошибки:"
   ]
  },
  {
   "cell_type": "code",
   "execution_count": 42,
   "metadata": {},
   "outputs": [
    {
     "name": "stdout",
     "output_type": "stream",
     "text": [
      "0.0 0.045548654244306416\n"
     ]
    }
   ],
   "source": [
    "min_train_err = np.min(train_err)\n",
    "min_test_err = np.min(test_err)\n",
    "print(min_train_err, min_test_err)"
   ]
  },
  {
   "cell_type": "markdown",
   "metadata": {},
   "source": [
    "Оптимальное число деревьев"
   ]
  },
  {
   "cell_type": "code",
   "execution_count": 43,
   "metadata": {},
   "outputs": [
    {
     "name": "stdout",
     "output_type": "stream",
     "text": [
      "12000\n"
     ]
    }
   ],
   "source": [
    "index = test_err.index(min_test_err)\n",
    "n_estimators_opt = n_estimators_arr[index]\n",
    "print(n_estimators_opt)"
   ]
  },
  {
   "cell_type": "markdown",
   "metadata": {},
   "source": [
    "Классификатор при найденном оптимальном значении:"
   ]
  },
  {
   "cell_type": "code",
   "execution_count": 44,
   "metadata": {},
   "outputs": [
    {
     "name": "stdout",
     "output_type": "stream",
     "text": [
      "0.0\n",
      "0.045548654244306416\n"
     ]
    }
   ],
   "source": [
    "ada = ensemble.AdaBoostClassifier(n_estimators = n_estimators_opt, random_state = 42)\n",
    "ada.fit(X_train, y_train)\n",
    "y_train_pred = ada.predict(X_train)\n",
    "y_test_pred = ada.predict(X_test)\n",
    "print(np.mean(y_train != y_train_pred))\n",
    "print(np.mean(y_test != y_test_pred))"
   ]
  },
  {
   "cell_type": "code",
   "execution_count": 45,
   "metadata": {},
   "outputs": [
    {
     "data": {
      "text/html": [
       "<div>\n",
       "<style scoped>\n",
       "    .dataframe tbody tr th:only-of-type {\n",
       "        vertical-align: middle;\n",
       "    }\n",
       "\n",
       "    .dataframe tbody tr th {\n",
       "        vertical-align: top;\n",
       "    }\n",
       "\n",
       "    .dataframe thead th {\n",
       "        text-align: right;\n",
       "    }\n",
       "</style>\n",
       "<table border=\"1\" class=\"dataframe\">\n",
       "  <thead>\n",
       "    <tr style=\"text-align: right;\">\n",
       "      <th>Predicted</th>\n",
       "      <th>0</th>\n",
       "      <th>1</th>\n",
       "      <th>All</th>\n",
       "    </tr>\n",
       "    <tr>\n",
       "      <th>True</th>\n",
       "      <th></th>\n",
       "      <th></th>\n",
       "      <th></th>\n",
       "    </tr>\n",
       "  </thead>\n",
       "  <tbody>\n",
       "    <tr>\n",
       "      <th>0</th>\n",
       "      <td>678</td>\n",
       "      <td>66</td>\n",
       "      <td>744</td>\n",
       "    </tr>\n",
       "    <tr>\n",
       "      <th>1</th>\n",
       "      <td>0</td>\n",
       "      <td>705</td>\n",
       "      <td>705</td>\n",
       "    </tr>\n",
       "    <tr>\n",
       "      <th>All</th>\n",
       "      <td>678</td>\n",
       "      <td>771</td>\n",
       "      <td>1449</td>\n",
       "    </tr>\n",
       "  </tbody>\n",
       "</table>\n",
       "</div>"
      ],
      "text/plain": [
       "Predicted    0    1   All\n",
       "True                     \n",
       "0          678   66   744\n",
       "1            0  705   705\n",
       "All        678  771  1449"
      ]
     },
     "execution_count": 45,
     "metadata": {},
     "output_type": "execute_result"
    }
   ],
   "source": [
    "pd.crosstab(y_test, y_test_pred, rownames=['True'], colnames=['Predicted'], margins=True)"
   ]
  },
  {
   "cell_type": "markdown",
   "metadata": {},
   "source": [
    "# GBT\n",
    "\n",
    "Тренируем классификатор с помощью алгоритма Gradient Boosting, выводим ошибки на тестовой и обучающей выборках, \n",
    "а также матрицу несоответствий для определения ошибок первого и второго рода"
   ]
  },
  {
   "cell_type": "code",
   "execution_count": 121,
   "metadata": {},
   "outputs": [
    {
     "name": "stdout",
     "output_type": "stream",
     "text": [
      "0.0 0.04278812974465148\n"
     ]
    }
   ],
   "source": [
    "gbt = ensemble.GradientBoostingClassifier(n_estimators = 1000, random_state = 42)\n",
    "gbt.fit(X_train, y_train)\n",
    "y_test_predict = gbt.predict(X_test)\n",
    "err_train = np.mean(y_train != gbt.predict(X_train))\n",
    "err_test = np.mean(y_test != y_test_predict)\n",
    "\n",
    "print(err_train, err_test)"
   ]
  },
  {
   "cell_type": "code",
   "execution_count": 122,
   "metadata": {},
   "outputs": [
    {
     "name": "stdout",
     "output_type": "stream",
     "text": [
      "[[682  62]\n",
      " [  0 705]]\n"
     ]
    }
   ],
   "source": [
    "from sklearn.metrics import confusion_matrix\n",
    "\n",
    "print(confusion_matrix(y_test, y_test_predict))"
   ]
  },
  {
   "cell_type": "markdown",
   "metadata": {},
   "source": [
    "Подберем оптимальное значение параметра n_estimators (the number of trees in the forest) и построим графики зависимости ошибки (на тестовой и обучающейся выборках) от количества используемых деревьев"
   ]
  },
  {
   "cell_type": "code",
   "execution_count": 94,
   "metadata": {},
   "outputs": [
    {
     "data": {
      "image/png": "[encoded data removed]",
      "text/plain": [
       "<Figure size 432x288 with 1 Axes>"
      ]
     },
     "metadata": {},
     "output_type": "display_data"
    }
   ],
   "source": [
    "n_estimators_arr = np.arange(100,3500,100) \n",
    "test_err = []\n",
    "train_err = []\n",
    "for n_estimators in n_estimators_arr:\n",
    "    gbt = ensemble.GradientBoostingClassifier(n_estimators = n_estimators, random_state = 42)\n",
    "    gbt.fit(X_train, y_train)\n",
    "    y_train_pred = gbt.predict(X_train)\n",
    "    y_test_pred = gbt.predict(X_test)\n",
    "    train_err.append(np.mean(y_train != y_train_pred))\n",
    "    test_err.append(np.mean(y_test != y_test_pred))\n",
    "\n",
    "plt.semilogx(n_estimators_arr, train_err, 'b-o', label = 'train')\n",
    "plt.semilogx(n_estimators_arr, test_err, 'r-o', label = 'test')\n",
    "plt.xlim([np.max(n_estimators_arr), np.min(n_estimators_arr)])\n",
    "plt.title('Error vs. Number of trees')\n",
    "plt.xlabel('number of trees')\n",
    "plt.ylabel('error')\n",
    "plt.legend()\n",
    "pass"
   ]
  },
  {
   "cell_type": "markdown",
   "metadata": {},
   "source": [
    "Минимальное значение ошибки:"
   ]
  },
  {
   "cell_type": "code",
   "execution_count": 95,
   "metadata": {},
   "outputs": [
    {
     "name": "stdout",
     "output_type": "stream",
     "text": [
      "0.0 0.029675638371290544\n"
     ]
    }
   ],
   "source": [
    "min_train_err = np.min(train_err)\n",
    "min_test_err = np.min(test_err)\n",
    "print(min_train_err, min_test_err)"
   ]
  },
  {
   "cell_type": "markdown",
   "metadata": {},
   "source": [
    "Оптимальное число деревьев"
   ]
  },
  {
   "cell_type": "code",
   "execution_count": 96,
   "metadata": {},
   "outputs": [
    {
     "name": "stdout",
     "output_type": "stream",
     "text": [
      "2400\n"
     ]
    }
   ],
   "source": [
    "index = test_err.index(min_test_err)\n",
    "n_estimators_opt = n_estimators_arr[index]\n",
    "print(n_estimators_opt)"
   ]
  },
  {
   "cell_type": "markdown",
   "metadata": {},
   "source": [
    "Классификатор при найденном оптимальном значении:"
   ]
  },
  {
   "cell_type": "code",
   "execution_count": 97,
   "metadata": {},
   "outputs": [
    {
     "name": "stdout",
     "output_type": "stream",
     "text": [
      "0.0\n",
      "0.029675638371290544\n"
     ]
    }
   ],
   "source": [
    "gbt = ensemble.GradientBoostingClassifier(n_estimators = n_estimators_opt, random_state = 42)\n",
    "gbt.fit(X_train, y_train)\n",
    "y_train_pred = gbt.predict(X_train)\n",
    "y_test_pred = gbt.predict(X_test)\n",
    "print(np.mean(y_train != y_train_pred))\n",
    "print(np.mean(y_test != y_test_pred))"
   ]
  },
  {
   "cell_type": "code",
   "execution_count": 98,
   "metadata": {},
   "outputs": [
    {
     "data": {
      "text/html": [
       "<div>\n",
       "<style scoped>\n",
       "    .dataframe tbody tr th:only-of-type {\n",
       "        vertical-align: middle;\n",
       "    }\n",
       "\n",
       "    .dataframe tbody tr th {\n",
       "        vertical-align: top;\n",
       "    }\n",
       "\n",
       "    .dataframe thead th {\n",
       "        text-align: right;\n",
       "    }\n",
       "</style>\n",
       "<table border=\"1\" class=\"dataframe\">\n",
       "  <thead>\n",
       "    <tr style=\"text-align: right;\">\n",
       "      <th>Predicted</th>\n",
       "      <th>0</th>\n",
       "      <th>1</th>\n",
       "      <th>All</th>\n",
       "    </tr>\n",
       "    <tr>\n",
       "      <th>True</th>\n",
       "      <th></th>\n",
       "      <th></th>\n",
       "      <th></th>\n",
       "    </tr>\n",
       "  </thead>\n",
       "  <tbody>\n",
       "    <tr>\n",
       "      <th>0</th>\n",
       "      <td>701</td>\n",
       "      <td>43</td>\n",
       "      <td>744</td>\n",
       "    </tr>\n",
       "    <tr>\n",
       "      <th>1</th>\n",
       "      <td>0</td>\n",
       "      <td>705</td>\n",
       "      <td>705</td>\n",
       "    </tr>\n",
       "    <tr>\n",
       "      <th>All</th>\n",
       "      <td>701</td>\n",
       "      <td>748</td>\n",
       "      <td>1449</td>\n",
       "    </tr>\n",
       "  </tbody>\n",
       "</table>\n",
       "</div>"
      ],
      "text/plain": [
       "Predicted    0    1   All\n",
       "True                     \n",
       "0          701   43   744\n",
       "1            0  705   705\n",
       "All        701  748  1449"
      ]
     },
     "execution_count": 98,
     "metadata": {},
     "output_type": "execute_result"
    }
   ],
   "source": [
    "pd.crosstab(y_test, y_test_pred, rownames=['True'], colnames=['Predicted'], margins=True)"
   ]
  },
  {
   "cell_type": "markdown",
   "metadata": {},
   "source": [
    "# Вывод"
   ]
  },
  {
   "cell_type": "markdown",
   "metadata": {},
   "source": [
    "Наименьшую ошибку на тестовой выборке (0.01518288474810214) показал алгоритм Random Forest. Наибольшую (0.045548654244306416) - Adaptive Boosting. Во всех случаях ошибка на тренировочной выборке = 0, однако сильное переообучение не наблюдается, так как ошибка на тестовой выборке также низка. Oob-ошибка зависит от числа деревьев примерно также, как и ошибка на тестовой выборке, однако малое число деревьев влияет на ее подъем намного сильнее. По сравнению с результатами предыдущих классификаторов ошибки на обучающей и тестовой выборках значительно уменьшились."
   ]
  }
 ],
 "metadata": {
  "kernelspec": {
   "display_name": "Python 3",
   "language": "python",
   "name": "python3"
  },
  "language_info": {
   "codemirror_mode": {
    "name": "ipython",
    "version": 3
   },
   "file_extension": ".py",
   "mimetype": "text/x-python",
   "name": "python",
   "nbconvert_exporter": "python",
   "pygments_lexer": "ipython3",
   "version": "3.6.5"
  }
 },
 "nbformat": 4,
 "nbformat_minor": 1
}
